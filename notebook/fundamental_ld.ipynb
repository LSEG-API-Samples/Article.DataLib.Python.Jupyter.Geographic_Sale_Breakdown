{
 "cells": [
  {
   "cell_type": "markdown",
   "metadata": {},
   "source": [
    "# Fundamentals Company Geographic Sales Breakdown\n",
    "\n",
    "LSEG's Reuters Fundamentals has over 35 years of experience in collecting and delivering the most timely and highest quality fundamentals data in the industry, including an unmatched depth and breadth of primary financial statements, footnote items, segment data, industry specific operating metrics, financial ratios, and much more. \n",
    "\n",
    "Reuters Fundamentals standardized and As Reported financial statement data – both interim and annual – along with per-share data, calculated financial ratios, company profile information, security data, Officers & Directors and market content for over 90,000 issuers. \n",
    "\n",
    "\n",
    "## Business & Geographic Segments\n",
    "\n",
    "Reuters Fundamentals also contains information for each segment reported by a company on an annual and interim basis Global coverage. This information which let you drive down your interested company sale revenue of each region.\n",
    "\n",
    "This Jupyter Notebook uses [LSEG Data Libary for Python](https://developers.lseg.com/en/api-catalog/lseg-data-platform/lseg-data-library-for-python) (aka Data Library version 2) to consume company geographic sale data from Reuters Fundamentals via Workspace platform, then breakdown and display each region revenue in readable graph format."
   ]
  },
  {
   "cell_type": "markdown",
   "metadata": {},
   "source": [
    "## Introduction to the Data Library for Python\n",
    "\n",
    "The [Data Library for Python](https://developers.lseg.com/en/api-catalog/lseg-data-platform/lseg-data-library-for-python) provides a set of ease-of-use interfaces offering coders uniform access to the breadth and depth of financial data and services available on the Workspace, RDP, and Real-Time Platforms. The API is designed to provide consistent access through multiple access channels and target both Professional Developers and Financial Coders. Developers can choose to access content from the desktop, through their deployed streaming services, or directly to the cloud. With the Data Library, the same Python code can be used to retrieve data regardless of which access point you choose to connect to the platform.\n",
    "\n",
    "\n",
    "![Figure-1](images/datalib_image.png \"Data Library Diagram\") \n",
    "\n",
    "The Data Library are available in the following programming languages:\n",
    "\n",
    "- [Python](https://developers.lseg.com/en/api-catalog/lseg-data-platform/lseg-data-library-for-python)\n",
    "- [.NET](https://developers.lseg.com/en/api-catalog/lseg-data-platform/lseg-data-library-for-net)\n",
    "- [TypeScript](https://developers.lseg.com/en/api-catalog/refinitiv-data-platform/refinitiv-data-library-for-typescript)\n",
    "\n",
    "For more deep detail regarding the Data Library for Python, please refer to the following articles and tutorials:\n",
    "\n",
    "- [Quickstart](https://developers.lseg.com/en/api-catalog/lseg-data-platform/lseg-data-library-for-python/quick-start).\n",
    "- [Documentation](https://developers.lseg.com/en/api-catalog/lseg-data-platform/lseg-data-library-for-python/documentation).\n",
    "- [Tutorials](https://developers.lseg.com/en/api-catalog/lseg-data-platform/lseg-data-library-for-python/tutorials).\n",
    "- [GitHub](https://github.com/LSEG-API-Samples/Example.DataLibrary.Python).\n",
    "\n",
    "\n",
    "### Disclaimer\n",
    "\n",
    "This project is based on Data Library Python versions **2.0.1** using the Desktop Session only.\n",
    "\n",
    "## Code Walkthrough\n",
    "\n",
    "Let start with importing the required libraries. The application needs to import ```lseg.data``` and ```matplotlib`` packages in order to interact with LD library and plot graph."
   ]
  },
  {
   "cell_type": "code",
   "execution_count": 2,
   "metadata": {},
   "outputs": [],
   "source": [
    "import lseg.data as ld\n",
    "import matplotlib.pyplot as plt\n",
    "from matplotlib.ticker import FuncFormatter"
   ]
  },
  {
   "cell_type": "markdown",
   "metadata": {},
   "source": [
    "The next step is to open a session defined in a **lseg-data.config.json** configuration file in the same location as notebook file.\n",
    "\n",
    "You should save a json file **lseg-data.config.json** having your Workspace App Key as follows:\n",
    "\n",
    "```json\n",
    "{\n",
    "    \"logs\": {\n",
    "        \"level\": \"debug\",\n",
    "        \"transports\": {\n",
    "            \"console\": {\n",
    "                \"enabled\": false\n",
    "            },\n",
    "            \"file\": {\n",
    "                \"enabled\": false,\n",
    "                \"name\": \"lseg-data-lib.log\"\n",
    "            }\n",
    "        }\n",
    "    },\n",
    "    \"sessions\": {\n",
    "        \"default\": \"desktop.workspace\",\n",
    "        \"desktop\": {\n",
    "            \"workspace\": {\n",
    "                \"app-key\": \"YOUR APP KEY GOES HERE!\"\n",
    "            }\n",
    "        }\n",
    "    }\n",
    "}\n",
    "```\n",
    "This file should be readily available (e.g. in the current working directory) for the next steps.\n",
    "\n",
    "Please note that the LSEG Workspace desktop application integrates the API proxy that acts as an interface between the Data library and the Workspace Platform. For this reason, the  Workspace application must be running when you use the Data library with Desktop Session. "
   ]
  },
  {
   "cell_type": "code",
   "execution_count": 4,
   "metadata": {},
   "outputs": [
    {
     "data": {
      "text/plain": [
       "<lseg.data.session.Definition object at 0x1fe4497e410 {name='workspace'}>"
      ]
     },
     "execution_count": 4,
     "metadata": {},
     "output_type": "execute_result"
    }
   ],
   "source": [
    "ld.open_session(config_name='./lseg-data.config.json')\n",
    "#ld.open_session(config_name='./lseg-data.devrel.config.json')"
   ]
  },
  {
   "cell_type": "markdown",
   "metadata": {},
   "source": [
    "## How to get Company Geographic Sale Data\n",
    "\n",
    "Firstly, we use Data Library  ```get_data``` method to request the following fields:\n",
    "- TR.BGS.GeoTotalRevenue.segmentName: Segment (Geographic) data\n",
    "- TR.BGS.GeoTotalRevenue: Each segment revenue value\n",
    "- TR.CompanyName\n",
    "\n",
    "I am demonstrating with [Arm Holdings](https://www.arm.com/) (RIC Code: **ARM.O**) as an example data set."
   ]
  },
  {
   "cell_type": "code",
   "execution_count": null,
   "metadata": {},
   "outputs": [],
   "source": [
    "# Declare parameter(s)\n",
    "ric = 'ARM.O'"
   ]
  },
  {
   "cell_type": "code",
   "execution_count": 65,
   "metadata": {},
   "outputs": [
    {
     "data": {
      "text/html": [
       "<div>\n",
       "<style scoped>\n",
       "    .dataframe tbody tr th:only-of-type {\n",
       "        vertical-align: middle;\n",
       "    }\n",
       "\n",
       "    .dataframe tbody tr th {\n",
       "        vertical-align: top;\n",
       "    }\n",
       "\n",
       "    .dataframe thead th {\n",
       "        text-align: right;\n",
       "    }\n",
       "</style>\n",
       "<table border=\"1\" class=\"dataframe\">\n",
       "  <thead>\n",
       "    <tr style=\"text-align: right;\">\n",
       "      <th></th>\n",
       "      <th>Instrument</th>\n",
       "      <th>Segment Name</th>\n",
       "      <th>Geographic Total Revenues (Calculated)</th>\n",
       "      <th>Company Name</th>\n",
       "    </tr>\n",
       "  </thead>\n",
       "  <tbody>\n",
       "    <tr>\n",
       "      <th>0</th>\n",
       "      <td>ARM.O</td>\n",
       "      <td>Republic of Korea</td>\n",
       "      <td>308000000</td>\n",
       "      <td>Arm Holdings PLC</td>\n",
       "    </tr>\n",
       "    <tr>\n",
       "      <th>1</th>\n",
       "      <td>ARM.O</td>\n",
       "      <td>PRC</td>\n",
       "      <td>697000000</td>\n",
       "      <td></td>\n",
       "    </tr>\n",
       "    <tr>\n",
       "      <th>2</th>\n",
       "      <td>ARM.O</td>\n",
       "      <td>Taiwan</td>\n",
       "      <td>522000000</td>\n",
       "      <td></td>\n",
       "    </tr>\n",
       "    <tr>\n",
       "      <th>3</th>\n",
       "      <td>ARM.O</td>\n",
       "      <td>United States</td>\n",
       "      <td>1413000000</td>\n",
       "      <td></td>\n",
       "    </tr>\n",
       "    <tr>\n",
       "      <th>4</th>\n",
       "      <td>ARM.O</td>\n",
       "      <td>Segment Total</td>\n",
       "      <td>2940000000</td>\n",
       "      <td></td>\n",
       "    </tr>\n",
       "    <tr>\n",
       "      <th>5</th>\n",
       "      <td>ARM.O</td>\n",
       "      <td>Consolidated Total</td>\n",
       "      <td>2940000000</td>\n",
       "      <td></td>\n",
       "    </tr>\n",
       "  </tbody>\n",
       "</table>\n",
       "</div>"
      ],
      "text/plain": [
       "  Instrument        Segment Name  Geographic Total Revenues (Calculated)  \\\n",
       "0      ARM.O   Republic of Korea                               308000000   \n",
       "1      ARM.O                 PRC                               697000000   \n",
       "2      ARM.O              Taiwan                               522000000   \n",
       "3      ARM.O       United States                              1413000000   \n",
       "4      ARM.O       Segment Total                              2940000000   \n",
       "5      ARM.O  Consolidated Total                              2940000000   \n",
       "\n",
       "       Company Name  \n",
       "0  Arm Holdings PLC  \n",
       "1                    \n",
       "2                    \n",
       "3                    \n",
       "4                    \n",
       "5                    "
      ]
     },
     "execution_count": 65,
     "metadata": {},
     "output_type": "execute_result"
    }
   ],
   "source": [
    "df = ld.get_data(universe = ric, \n",
    "                 fields=['TR.BGS.GeoTotalRevenue.segmentName', 'TR.BGS.GeoTotalRevenue','TR.CompanyName'])\n",
    "df"
   ]
  },
  {
   "cell_type": "markdown",
   "metadata": {},
   "source": [
    "Next, we set the *Segment name* column to be an index column"
   ]
  },
  {
   "cell_type": "code",
   "execution_count": 66,
   "metadata": {},
   "outputs": [
    {
     "data": {
      "text/html": [
       "<div>\n",
       "<style scoped>\n",
       "    .dataframe tbody tr th:only-of-type {\n",
       "        vertical-align: middle;\n",
       "    }\n",
       "\n",
       "    .dataframe tbody tr th {\n",
       "        vertical-align: top;\n",
       "    }\n",
       "\n",
       "    .dataframe thead th {\n",
       "        text-align: right;\n",
       "    }\n",
       "</style>\n",
       "<table border=\"1\" class=\"dataframe\">\n",
       "  <thead>\n",
       "    <tr style=\"text-align: right;\">\n",
       "      <th></th>\n",
       "      <th>Instrument</th>\n",
       "      <th>Geographic Total Revenues (Calculated)</th>\n",
       "      <th>Company Name</th>\n",
       "    </tr>\n",
       "    <tr>\n",
       "      <th>Segment Name</th>\n",
       "      <th></th>\n",
       "      <th></th>\n",
       "      <th></th>\n",
       "    </tr>\n",
       "  </thead>\n",
       "  <tbody>\n",
       "    <tr>\n",
       "      <th>Republic of Korea</th>\n",
       "      <td>ARM.O</td>\n",
       "      <td>308000000</td>\n",
       "      <td>Arm Holdings PLC</td>\n",
       "    </tr>\n",
       "    <tr>\n",
       "      <th>PRC</th>\n",
       "      <td>ARM.O</td>\n",
       "      <td>697000000</td>\n",
       "      <td></td>\n",
       "    </tr>\n",
       "    <tr>\n",
       "      <th>Taiwan</th>\n",
       "      <td>ARM.O</td>\n",
       "      <td>522000000</td>\n",
       "      <td></td>\n",
       "    </tr>\n",
       "    <tr>\n",
       "      <th>United States</th>\n",
       "      <td>ARM.O</td>\n",
       "      <td>1413000000</td>\n",
       "      <td></td>\n",
       "    </tr>\n",
       "    <tr>\n",
       "      <th>Segment Total</th>\n",
       "      <td>ARM.O</td>\n",
       "      <td>2940000000</td>\n",
       "      <td></td>\n",
       "    </tr>\n",
       "    <tr>\n",
       "      <th>Consolidated Total</th>\n",
       "      <td>ARM.O</td>\n",
       "      <td>2940000000</td>\n",
       "      <td></td>\n",
       "    </tr>\n",
       "  </tbody>\n",
       "</table>\n",
       "</div>"
      ],
      "text/plain": [
       "                   Instrument  Geographic Total Revenues (Calculated)  \\\n",
       "Segment Name                                                            \n",
       "Republic of Korea       ARM.O                               308000000   \n",
       "PRC                     ARM.O                               697000000   \n",
       "Taiwan                  ARM.O                               522000000   \n",
       "United States           ARM.O                              1413000000   \n",
       "Segment Total           ARM.O                              2940000000   \n",
       "Consolidated Total      ARM.O                              2940000000   \n",
       "\n",
       "                        Company Name  \n",
       "Segment Name                          \n",
       "Republic of Korea   Arm Holdings PLC  \n",
       "PRC                                   \n",
       "Taiwan                                \n",
       "United States                         \n",
       "Segment Total                         \n",
       "Consolidated Total                    "
      ]
     },
     "execution_count": 66,
     "metadata": {},
     "output_type": "execute_result"
    }
   ],
   "source": [
    "df.set_index('Segment Name', drop= True, inplace=True)\n",
    "df"
   ]
  },
  {
   "cell_type": "markdown",
   "metadata": {},
   "source": [
    "### Lets try plotting a graph\n",
    "\n",
    "I am demonstrating how to use this Dataframe to plot a bar graph *as is*. However, the result is hard to read and analysis sale revenue at all."
   ]
  },
  {
   "cell_type": "code",
   "execution_count": 67,
   "metadata": {},
   "outputs": [
    {
     "data": {
      "image/png": "[encoded data removed]",
      "text/plain": [
       "<Figure size 640x480 with 1 Axes>"
      ]
     },
     "metadata": {},
     "output_type": "display_data"
    }
   ],
   "source": [
    "fig = plt.figure()\n",
    "df.plot(kind='barh', ax=fig.gca())\n",
    "plt.show()"
   ]
  },
  {
   "cell_type": "markdown",
   "metadata": {},
   "source": [
    "So we need to restructure the Dataframe and make data easier to read before plotting a graph.\n",
    "\n",
    "The first step is to reindex from *Segment Name* to be a data column."
   ]
  },
  {
   "cell_type": "code",
   "execution_count": 69,
   "metadata": {},
   "outputs": [
    {
     "data": {
      "text/html": [
       "<div>\n",
       "<style scoped>\n",
       "    .dataframe tbody tr th:only-of-type {\n",
       "        vertical-align: middle;\n",
       "    }\n",
       "\n",
       "    .dataframe tbody tr th {\n",
       "        vertical-align: top;\n",
       "    }\n",
       "\n",
       "    .dataframe thead th {\n",
       "        text-align: right;\n",
       "    }\n",
       "</style>\n",
       "<table border=\"1\" class=\"dataframe\">\n",
       "  <thead>\n",
       "    <tr style=\"text-align: right;\">\n",
       "      <th></th>\n",
       "      <th>Segment Name</th>\n",
       "      <th>Instrument</th>\n",
       "      <th>Geographic Total Revenues (Calculated)</th>\n",
       "      <th>Company Name</th>\n",
       "    </tr>\n",
       "  </thead>\n",
       "  <tbody>\n",
       "    <tr>\n",
       "      <th>0</th>\n",
       "      <td>Republic of Korea</td>\n",
       "      <td>ARM.O</td>\n",
       "      <td>308000000</td>\n",
       "      <td>Arm Holdings PLC</td>\n",
       "    </tr>\n",
       "    <tr>\n",
       "      <th>1</th>\n",
       "      <td>PRC</td>\n",
       "      <td>ARM.O</td>\n",
       "      <td>697000000</td>\n",
       "      <td></td>\n",
       "    </tr>\n",
       "    <tr>\n",
       "      <th>2</th>\n",
       "      <td>Taiwan</td>\n",
       "      <td>ARM.O</td>\n",
       "      <td>522000000</td>\n",
       "      <td></td>\n",
       "    </tr>\n",
       "    <tr>\n",
       "      <th>3</th>\n",
       "      <td>United States</td>\n",
       "      <td>ARM.O</td>\n",
       "      <td>1413000000</td>\n",
       "      <td></td>\n",
       "    </tr>\n",
       "    <tr>\n",
       "      <th>4</th>\n",
       "      <td>Segment Total</td>\n",
       "      <td>ARM.O</td>\n",
       "      <td>2940000000</td>\n",
       "      <td></td>\n",
       "    </tr>\n",
       "    <tr>\n",
       "      <th>5</th>\n",
       "      <td>Consolidated Total</td>\n",
       "      <td>ARM.O</td>\n",
       "      <td>2940000000</td>\n",
       "      <td></td>\n",
       "    </tr>\n",
       "  </tbody>\n",
       "</table>\n",
       "</div>"
      ],
      "text/plain": [
       "         Segment Name Instrument  Geographic Total Revenues (Calculated)  \\\n",
       "0   Republic of Korea      ARM.O                               308000000   \n",
       "1                 PRC      ARM.O                               697000000   \n",
       "2              Taiwan      ARM.O                               522000000   \n",
       "3       United States      ARM.O                              1413000000   \n",
       "4       Segment Total      ARM.O                              2940000000   \n",
       "5  Consolidated Total      ARM.O                              2940000000   \n",
       "\n",
       "       Company Name  \n",
       "0  Arm Holdings PLC  \n",
       "1                    \n",
       "2                    \n",
       "3                    \n",
       "4                    \n",
       "5                    "
      ]
     },
     "execution_count": 69,
     "metadata": {},
     "output_type": "execute_result"
    }
   ],
   "source": [
    "df_graph = df.copy()\n",
    "\n",
    "df_graph.reset_index(level=0, inplace=True)\n",
    "\n",
    "df_graph"
   ]
  },
  {
   "cell_type": "markdown",
   "metadata": {},
   "source": [
    "The second step is to  rename *Segment Name* and *Geographic Total Revenues (Calculated)* columns to be more readable names like *Geographic* and *Revenue*."
   ]
  },
  {
   "cell_type": "code",
   "execution_count": 70,
   "metadata": {},
   "outputs": [
    {
     "data": {
      "text/html": [
       "<div>\n",
       "<style scoped>\n",
       "    .dataframe tbody tr th:only-of-type {\n",
       "        vertical-align: middle;\n",
       "    }\n",
       "\n",
       "    .dataframe tbody tr th {\n",
       "        vertical-align: top;\n",
       "    }\n",
       "\n",
       "    .dataframe thead th {\n",
       "        text-align: right;\n",
       "    }\n",
       "</style>\n",
       "<table border=\"1\" class=\"dataframe\">\n",
       "  <thead>\n",
       "    <tr style=\"text-align: right;\">\n",
       "      <th></th>\n",
       "      <th>Geographic</th>\n",
       "      <th>Instrument</th>\n",
       "      <th>Revenues</th>\n",
       "      <th>Company Name</th>\n",
       "    </tr>\n",
       "  </thead>\n",
       "  <tbody>\n",
       "    <tr>\n",
       "      <th>0</th>\n",
       "      <td>Republic of Korea</td>\n",
       "      <td>ARM.O</td>\n",
       "      <td>308000000</td>\n",
       "      <td>Arm Holdings PLC</td>\n",
       "    </tr>\n",
       "    <tr>\n",
       "      <th>1</th>\n",
       "      <td>PRC</td>\n",
       "      <td>ARM.O</td>\n",
       "      <td>697000000</td>\n",
       "      <td></td>\n",
       "    </tr>\n",
       "    <tr>\n",
       "      <th>2</th>\n",
       "      <td>Taiwan</td>\n",
       "      <td>ARM.O</td>\n",
       "      <td>522000000</td>\n",
       "      <td></td>\n",
       "    </tr>\n",
       "    <tr>\n",
       "      <th>3</th>\n",
       "      <td>United States</td>\n",
       "      <td>ARM.O</td>\n",
       "      <td>1413000000</td>\n",
       "      <td></td>\n",
       "    </tr>\n",
       "    <tr>\n",
       "      <th>4</th>\n",
       "      <td>Segment Total</td>\n",
       "      <td>ARM.O</td>\n",
       "      <td>2940000000</td>\n",
       "      <td></td>\n",
       "    </tr>\n",
       "    <tr>\n",
       "      <th>5</th>\n",
       "      <td>Consolidated Total</td>\n",
       "      <td>ARM.O</td>\n",
       "      <td>2940000000</td>\n",
       "      <td></td>\n",
       "    </tr>\n",
       "  </tbody>\n",
       "</table>\n",
       "</div>"
      ],
      "text/plain": [
       "           Geographic Instrument    Revenues      Company Name\n",
       "0   Republic of Korea      ARM.O   308000000  Arm Holdings PLC\n",
       "1                 PRC      ARM.O   697000000                  \n",
       "2              Taiwan      ARM.O   522000000                  \n",
       "3       United States      ARM.O  1413000000                  \n",
       "4       Segment Total      ARM.O  2940000000                  \n",
       "5  Consolidated Total      ARM.O  2940000000                  "
      ]
     },
     "execution_count": 70,
     "metadata": {},
     "output_type": "execute_result"
    }
   ],
   "source": [
    "df_graph.rename(\n",
    "    columns= {\n",
    "        'Segment Name':'Geographic',\n",
    "        'Geographic Total Revenues (Calculated)':'Revenues'\n",
    "    },\n",
    "    inplace= True\n",
    ")\n",
    "\n",
    "df_graph"
   ]
  },
  {
   "cell_type": "markdown",
   "metadata": {},
   "source": [
    "The returned Dataframe object from ```get_data``` method contains the summary revenue sale values in Segment's *Segment Total* and *Consolidated Total* rows.\n",
    "\n",
    "We will use the *Consolidated Total* information as a summary sale value in this notebook. We get this sale from the last row of Dataframe."
   ]
  },
  {
   "cell_type": "code",
   "execution_count": 71,
   "metadata": {},
   "outputs": [
    {
     "data": {
      "text/plain": [
       "2940000000"
      ]
     },
     "execution_count": 71,
     "metadata": {},
     "output_type": "execute_result"
    }
   ],
   "source": [
    "total_sale = df_graph.iloc[df_graph.shape[0] - 1]['Revenues']\n",
    "total_sale"
   ]
  },
  {
   "cell_type": "markdown",
   "metadata": {},
   "source": [
    "Next, get the company name information from the first row of Dataframe object which is the only row that contains *Company Name* column data."
   ]
  },
  {
   "cell_type": "code",
   "execution_count": 72,
   "metadata": {},
   "outputs": [
    {
     "data": {
      "text/plain": [
       "'Arm Holdings PLC'"
      ]
     },
     "execution_count": 72,
     "metadata": {},
     "output_type": "execute_result"
    }
   ],
   "source": [
    "company_name = df_graph.iloc[0]['Company Name']\n",
    "company_name"
   ]
  },
  {
   "cell_type": "markdown",
   "metadata": {},
   "source": [
    "And the last thing on this phase is to remove the Total Sale Revenue rows from the Dataframe, I will display the consolidated revenue information as a graph footer instead."
   ]
  },
  {
   "cell_type": "code",
   "execution_count": 73,
   "metadata": {},
   "outputs": [],
   "source": [
    "df_graph = df_graph[df_graph['Geographic'] != 'Segment Total']\n",
    "\n",
    "df_graph = df_graph[df_graph['Geographic'] != 'Consolidated Total']\n"
   ]
  },
  {
   "cell_type": "markdown",
   "metadata": {},
   "source": [
    "Then we define a function for formatting sale number values. The function receives incoming large revenue numbers from Notebook, then reformats that value into a readable numbers in trillions, billions or millions unit.\n",
    "\n",
    "This code is based on [Dan Friedman](https://github.com/frieds/frieds.github.io)'s [How to Format Large Tick Values tutorial](https://github.com/frieds/frieds.github.io/tree/master/data-visualizations/how_to_format_large_tick_values_files) source code via GitHub."
   ]
  },
  {
   "cell_type": "code",
   "execution_count": 74,
   "metadata": {},
   "outputs": [],
   "source": [
    "def format_revenues_number(tick_val, pos):\n",
    "    \"\"\"\n",
    "    Turns large tick values (in the trillions, billions, millions and thousands) such as 4500 into 4.5K \n",
    "    and also appropriately turns 4000 into 4K (no zero after the decimal).\n",
    "    \"\"\"\n",
    "    if tick_val >= 1000000000000: # Add support for trillions\n",
    "        val = round(tick_val/1000000000000, 1)\n",
    "        new_tick_format = '{:}T'.format(val)\n",
    "    elif tick_val >= 1000000000:\n",
    "        val = round(tick_val/1000000000, 1)\n",
    "        new_tick_format = '{:}B'.format(val)\n",
    "    elif tick_val >= 1000000:\n",
    "        val = round(tick_val/1000000, 1)\n",
    "        new_tick_format = '{:}M'.format(val)\n",
    "    elif tick_val >= 1000:\n",
    "        val = round(tick_val/1000, 1)\n",
    "        new_tick_format = '{:}K'.format(val)\n",
    "    elif tick_val < 1000:\n",
    "        new_tick_format = round(tick_val, 1)\n",
    "    else:\n",
    "        new_tick_format = tick_val\n",
    "\n",
    "     # make new_tick_format into a string value\n",
    "    new_tick_format = str(new_tick_format)\n",
    "    \"\"\"\n",
    "    code below will keep 4.5M as is but change values such as 4.0M to 4M since that \n",
    "    zero after the decimal isn't needed\n",
    "    \"\"\"\n",
    "    index_of_decimal = new_tick_format.find(\".\")\n",
    "    \n",
    "    if index_of_decimal != -1:\n",
    "        value_after_decimal = new_tick_format[index_of_decimal+1]\n",
    "        if value_after_decimal == \"0\":\n",
    "            # remove the 0 after the decimal point since it's not needed\n",
    "            new_tick_format = new_tick_format[0:index_of_decimal] + new_tick_format[index_of_decimal+2:]\n",
    "            \n",
    "    return new_tick_format"
   ]
  },
  {
   "cell_type": "markdown",
   "metadata": {},
   "source": [
    "To plot a graph, I use [matplotlib.pyplot](https://matplotlib.org/api/pyplot_api.html) library to plot a bar graph that represent each region revenue from restructured Dataframe object in Jupyter Notebook."
   ]
  },
  {
   "cell_type": "code",
   "execution_count": 75,
   "metadata": {},
   "outputs": [
    {
     "data": {
      "image/png": "[encoded data removed]",
      "text/plain": [
       "<Figure size 640x480 with 1 Axes>"
      ]
     },
     "metadata": {},
     "output_type": "display_data"
    }
   ],
   "source": [
    "# Plotting a Graph\n",
    "\n",
    "df_graph.set_index('Geographic',drop=True,inplace=True)\n",
    "fig = plt.figure()\n",
    "\n",
    "#Format Total Sale display unit as a graph footer.\n",
    "fig.text(.5, -.05, 'Consolidated Total Sale %s' %(f'{total_sale:,.2f}'), ha='center',fontsize='large')\n",
    "\n",
    "# Create graph title from Company and RIC names dynamically.\n",
    "plt.ticklabel_format(style = 'plain')\n",
    "plt.title('%s (%s) Geographic Sale Breakdown' % (company_name, ric), color='black',fontsize='x-large')\n",
    "ax = fig.gca()\n",
    "\n",
    "#Apply Sale data into millions function.\n",
    "formatter = FuncFormatter(format_revenues_number)\n",
    "ax.xaxis.set_major_formatter(formatter)\n",
    "\n",
    "df_graph.plot(kind='barh', ax = fig.gca())\n",
    "plt.show()"
   ]
  },
  {
   "cell_type": "markdown",
   "metadata": {},
   "source": [
    "Note: You can adjust a graph size to match your preference and data via a ```figsize``` parameter of [Dataframe.plot()](https://pandas.pydata.org/docs/reference/api/pandas.DataFrame.plot.html) method."
   ]
  },
  {
   "cell_type": "markdown",
   "metadata": {},
   "source": [
    "## <a id=\"summary\"></a>Conclusion\n",
    "\n",
    "LSEG provides a wide range of Reuters Fundamentals data for your investment decisions including company geographic sale information via Workspace platform. This information helps you analysis the revenue from each geographic region of your interested company in both panel data and graph formats.\n",
    "\n",
    "## <a id=\"references\"></a>References\n",
    "\n",
    "You can find more detail regarding the Data Library and related technologies for this Notebook from the following resources:\n",
    "\n",
    "- [LSEG Data Library for Python](https://developers.lseg.com/en/api-catalog/lseg-data-platform/lseg-data-library-for-python) on the [LSEG Developer Community](https://developers.lseg.com/)\n",
    "- [Data Library for Python - Reference Guide](https://developers.lseg.com/en/api-catalog/lseg-data-platform/lseg-data-library-for-python/documentation#reference-guide)\n",
    "- [The Data Library for Python  - Quick Reference Guide (Access layer)](https://developers.lseg.com/en/article-catalog/article/the-data-library-for-python-quick-reference-guide-access-layer) article.\n",
    "- [Essential Guide to the Data Libraries - Generations of Python library (EDAPI, RDP, RD, LD)](https://developers.lseg.com/en/article-catalog/article/essential-guide-to-the-data-libraries) article.\n",
    "- [Upgrade from using Eikon Data API to the Data library](https://developers.lseg.com/en/article-catalog/article/Upgrade-from-using-Eikon-Data-API-to-the-Data-library) article.\n",
    "- [Data Library for Python Examples on GitHub](https://github.com/LSEG-API-Samples/Example.DataLibrary.Python) repository.\n",
    "- [Dan Friedman's Python programming, data analysis, data visualizations tutorials](https://github.com/frieds/frieds.github.io).\n",
    "- [Pandas API Reference](https://pandas.pydata.org/docs/reference/index.html).\n",
    "- [Pyplot Graph API Reference](https://matplotlib.org/api/pyplot_api.html).\n",
    "\n",
    "For any question related to this example or Data Library, please use the Developers Community [Q&A Forum](https://community.developers.refinitiv.com)."
   ]
  },
  {
   "cell_type": "markdown",
   "metadata": {},
   "source": []
  }
 ],
 "metadata": {
  "kernelspec": {
   "display_name": "Python 3 (ipykernel)",
   "language": "python",
   "name": "python3"
  },
  "language_info": {
   "codemirror_mode": {
    "name": "ipython",
    "version": 3
   },
   "file_extension": ".py",
   "mimetype": "text/x-python",
   "name": "python",
   "nbconvert_exporter": "python",
   "pygments_lexer": "ipython3",
   "version": "3.11.5"
  }
 },
 "nbformat": 4,
 "nbformat_minor": 4
}
