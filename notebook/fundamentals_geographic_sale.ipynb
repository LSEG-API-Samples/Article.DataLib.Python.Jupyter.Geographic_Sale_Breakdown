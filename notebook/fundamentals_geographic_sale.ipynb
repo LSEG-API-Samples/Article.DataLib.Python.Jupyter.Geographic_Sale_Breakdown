{
 "cells": [
  {
   "cell_type": "markdown",
   "metadata": {},
   "source": [
    "# Fundamentals Company Geographic Sales Breakdown\n",
    "\n",
    "Refinitiv's Reuters Fundamentals has over 35 years of experience in collecting and delivering the most timely and highestquality fundamentals data in the industry, including an unmatched depth and breadth of primary financial statements, footnote items, segment data, industry specific operating metrics, financial ratios, and much more. \n",
    "\n",
    "Reuters Fundamentals standardized and As Reported financial statement data – both interim and annual – along with per-share data, calculated financial ratios, company profile information, security data, Officers & Directors and market content for over 90,000 issuers. \n",
    "\n",
    "\n",
    "## Business & Geographic Segments\n",
    "\n",
    "Reuters Fundamentals also contains information for each segment reported by a company on an annual and interim basis Global coverage. This information which let you drive down your interested comapny sale revenue of each region.\n",
    "\n",
    "This [classic Jupyter Notebook](https://jupyter.org/) uses Refinitiv [Eikon Data API](https://developers.refinitiv.com/eikon-apis/eikon-data-api) to consume company geographic sale data from Refinitiv Fundamentals, then breakdown and display each region revenue in readable graph format.\n"
   ]
  },
  {
   "cell_type": "markdown",
   "metadata": {},
   "source": [
    "## Eikon Data API Setup\n",
    "\n",
    "Please follow a step by step guide to setup your Eikon Data API and your AppKey in [Eikon Data API Quick Start page](https://developers.refinitiv.com/eikon-apis/eikon-data-api/quick-start). \n",
    "\n",
    "Please note that you can also create your Appkey via <a href=\"https://amers1.apps.cp.thomsonreuters.com/apps/AppkeyGenerator\">AppKey Generator web site</a>."
   ]
  },
  {
   "cell_type": "code",
   "execution_count": 1,
   "metadata": {},
   "outputs": [],
   "source": [
    "#Imporint Eikon and Main Modules\n",
    "\n",
    "import eikon as ek\n",
    "import configparser as cp\n",
    "import warnings\n",
    "import numpy as np\n",
    "import pandas as pd\n",
    "import matplotlib.pyplot as plt\n",
    "import matplotlib\n",
    "import matplotlib.ticker as tick\n",
    "from matplotlib.ticker import FuncFormatter\n",
    "\n",
    "\n",
    "warnings.filterwarnings('ignore')"
   ]
  },
  {
   "cell_type": "markdown",
   "metadata": {},
   "source": [
    "## Connecting to Eikon Data API\n",
    "\n",
    "This code sets the `app_id` to connect to the **Eikon Data API** via the **Refinitiv Workspace/Eikon Desktop Application** which needs to be running locally. It requires the previously created text file `eikon.cfg` to be in the current working directory."
   ]
  },
  {
   "cell_type": "markdown",
   "metadata": {},
   "source": [
    "You should save a text file with **filename** `eikon.cfg` having the following contents:\n",
    "\n",
    "    [eikon]\n",
    "    app_id = YOUR_APP_ID_HERE\n",
    "    \n",
    "This file should be readily availble (e.g. in the current working directory) for the next steps."
   ]
  },
  {
   "cell_type": "code",
   "execution_count": 2,
   "metadata": {},
   "outputs": [
    {
     "data": {
      "text/plain": [
       "['eikon.cfg']"
      ]
     },
     "execution_count": 2,
     "metadata": {},
     "output_type": "execute_result"
    }
   ],
   "source": [
    "cfg = cp.ConfigParser()\n",
    "cfg.read('eikon.cfg')  # adjust for different file location"
   ]
  },
  {
   "cell_type": "markdown",
   "metadata": {},
   "source": [
    "Please note that the Refintiv Workspace/Eikon application integrates a Data API proxy that acts as an interface between the Eikon Data API Python library and the Eikon Data Platform. For this reason, the Refinitiv Workspace/Eikon application must be running when you use the Eikon Data API Python library. "
   ]
  },
  {
   "cell_type": "code",
   "execution_count": 3,
   "metadata": {},
   "outputs": [],
   "source": [
    "ek.set_app_key(cfg['eikon']['app_id']) #set_app_id function being deprecated"
   ]
  },
  {
   "cell_type": "markdown",
   "metadata": {},
   "source": [
    "## Data API Fields\n",
    "\n",
    "<!--\n",
    "The fields providing geographic breakdown of the company's fundamentals are\n",
    "- ```TR.BGS.GeoTotalRevenue```\n",
    "- ```TR.BGS.GeoTotalRevenue.segmentName```\n",
    "-->\n",
    "\n",
    "This Company fundamentals information can be search in Refinitiv Workspace (or Eikon desktop) Data Item Browser application under ```Content Classification -> Reuters Fundamentals -> Business and Geographic Segments - Geographic Segment```.\n",
    "\n",
    "<img src=\"images/rw_data_item_browser_2.png\">\n",
    "\n",
    "<!--\n",
    "### TR.BGS.GeoTotalRevenue\n",
    "Geographic Total Revenues (Calculated). \n",
    "* Value unit: Millions-->\n"
   ]
  },
  {
   "cell_type": "markdown",
   "metadata": {},
   "source": [
    "Firstly we get the list of interested RICs from index RIC. We use Dow Jones Industrial Average (RIC ```0#.DJI```) as an example."
   ]
  },
  {
   "cell_type": "code",
   "execution_count": 4,
   "metadata": {},
   "outputs": [],
   "source": [
    "chain_ric = '0#.DJI'"
   ]
  },
  {
   "cell_type": "markdown",
   "metadata": {},
   "source": [
    "Then we use Eikon Data API ```get_data``` function to get a list of RICs and Company names inside interested index RIC."
   ]
  },
  {
   "cell_type": "code",
   "execution_count": 5,
   "metadata": {},
   "outputs": [
    {
     "data": {
      "text/html": [
       "<div>\n",
       "<style scoped>\n",
       "    .dataframe tbody tr th:only-of-type {\n",
       "        vertical-align: middle;\n",
       "    }\n",
       "\n",
       "    .dataframe tbody tr th {\n",
       "        vertical-align: top;\n",
       "    }\n",
       "\n",
       "    .dataframe thead th {\n",
       "        text-align: right;\n",
       "    }\n",
       "</style>\n",
       "<table border=\"1\" class=\"dataframe\">\n",
       "  <thead>\n",
       "    <tr style=\"text-align: right;\">\n",
       "      <th></th>\n",
       "      <th>Instrument</th>\n",
       "      <th>Company Name</th>\n",
       "    </tr>\n",
       "  </thead>\n",
       "  <tbody>\n",
       "    <tr>\n",
       "      <th>0</th>\n",
       "      <td>GS.N</td>\n",
       "      <td>Goldman Sachs Group Inc</td>\n",
       "    </tr>\n",
       "    <tr>\n",
       "      <th>1</th>\n",
       "      <td>NKE.N</td>\n",
       "      <td>Nike Inc</td>\n",
       "    </tr>\n",
       "    <tr>\n",
       "      <th>2</th>\n",
       "      <td>CSCO.OQ</td>\n",
       "      <td>Cisco Systems Inc</td>\n",
       "    </tr>\n",
       "    <tr>\n",
       "      <th>3</th>\n",
       "      <td>JPM.N</td>\n",
       "      <td>JPMorgan Chase &amp; Co</td>\n",
       "    </tr>\n",
       "    <tr>\n",
       "      <th>4</th>\n",
       "      <td>DIS.N</td>\n",
       "      <td>Walt Disney Co</td>\n",
       "    </tr>\n",
       "    <tr>\n",
       "      <th>5</th>\n",
       "      <td>INTC.OQ</td>\n",
       "      <td>Intel Corp</td>\n",
       "    </tr>\n",
       "    <tr>\n",
       "      <th>6</th>\n",
       "      <td>DOW.N</td>\n",
       "      <td>Dow Inc</td>\n",
       "    </tr>\n",
       "    <tr>\n",
       "      <th>7</th>\n",
       "      <td>MRK.N</td>\n",
       "      <td>Merck &amp; Co Inc</td>\n",
       "    </tr>\n",
       "    <tr>\n",
       "      <th>8</th>\n",
       "      <td>CVX.N</td>\n",
       "      <td>Chevron Corp</td>\n",
       "    </tr>\n",
       "    <tr>\n",
       "      <th>9</th>\n",
       "      <td>AXP.N</td>\n",
       "      <td>American Express Co</td>\n",
       "    </tr>\n",
       "    <tr>\n",
       "      <th>10</th>\n",
       "      <td>VZ.N</td>\n",
       "      <td>Verizon Communications Inc</td>\n",
       "    </tr>\n",
       "    <tr>\n",
       "      <th>11</th>\n",
       "      <td>HD.N</td>\n",
       "      <td>Home Depot Inc</td>\n",
       "    </tr>\n",
       "    <tr>\n",
       "      <th>12</th>\n",
       "      <td>WBA.OQ</td>\n",
       "      <td>Walgreens Boots Alliance Inc</td>\n",
       "    </tr>\n",
       "    <tr>\n",
       "      <th>13</th>\n",
       "      <td>XOM.N</td>\n",
       "      <td>Exxon Mobil Corp</td>\n",
       "    </tr>\n",
       "    <tr>\n",
       "      <th>14</th>\n",
       "      <td>MCD.N</td>\n",
       "      <td>Mcdonald's Corp</td>\n",
       "    </tr>\n",
       "    <tr>\n",
       "      <th>15</th>\n",
       "      <td>UNH.N</td>\n",
       "      <td>UnitedHealth Group Inc</td>\n",
       "    </tr>\n",
       "    <tr>\n",
       "      <th>16</th>\n",
       "      <td>KO.N</td>\n",
       "      <td>Coca-Cola Co</td>\n",
       "    </tr>\n",
       "    <tr>\n",
       "      <th>17</th>\n",
       "      <td>JNJ.N</td>\n",
       "      <td>Johnson &amp; Johnson</td>\n",
       "    </tr>\n",
       "    <tr>\n",
       "      <th>18</th>\n",
       "      <td>MSFT.OQ</td>\n",
       "      <td>Microsoft Corp</td>\n",
       "    </tr>\n",
       "    <tr>\n",
       "      <th>19</th>\n",
       "      <td>PG.N</td>\n",
       "      <td>Procter &amp; Gamble Co</td>\n",
       "    </tr>\n",
       "    <tr>\n",
       "      <th>20</th>\n",
       "      <td>IBM.N</td>\n",
       "      <td>International Business Machines Corp</td>\n",
       "    </tr>\n",
       "    <tr>\n",
       "      <th>21</th>\n",
       "      <td>PFE.N</td>\n",
       "      <td>Pfizer Inc</td>\n",
       "    </tr>\n",
       "    <tr>\n",
       "      <th>22</th>\n",
       "      <td>MMM.N</td>\n",
       "      <td>3M Co</td>\n",
       "    </tr>\n",
       "    <tr>\n",
       "      <th>23</th>\n",
       "      <td>AAPL.OQ</td>\n",
       "      <td>Apple Inc</td>\n",
       "    </tr>\n",
       "    <tr>\n",
       "      <th>24</th>\n",
       "      <td>WMT.N</td>\n",
       "      <td>Walmart Inc</td>\n",
       "    </tr>\n",
       "    <tr>\n",
       "      <th>25</th>\n",
       "      <td>UTX.N</td>\n",
       "      <td>United Technologies Corp</td>\n",
       "    </tr>\n",
       "    <tr>\n",
       "      <th>26</th>\n",
       "      <td>CAT.N</td>\n",
       "      <td>Caterpillar Inc</td>\n",
       "    </tr>\n",
       "    <tr>\n",
       "      <th>27</th>\n",
       "      <td>V.N</td>\n",
       "      <td>Visa Inc</td>\n",
       "    </tr>\n",
       "    <tr>\n",
       "      <th>28</th>\n",
       "      <td>TRV.N</td>\n",
       "      <td>Travelers Companies Inc</td>\n",
       "    </tr>\n",
       "    <tr>\n",
       "      <th>29</th>\n",
       "      <td>BA.N</td>\n",
       "      <td>Boeing Co</td>\n",
       "    </tr>\n",
       "  </tbody>\n",
       "</table>\n",
       "</div>"
      ],
      "text/plain": [
       "   Instrument                          Company Name\n",
       "0        GS.N               Goldman Sachs Group Inc\n",
       "1       NKE.N                              Nike Inc\n",
       "2     CSCO.OQ                     Cisco Systems Inc\n",
       "3       JPM.N                   JPMorgan Chase & Co\n",
       "4       DIS.N                        Walt Disney Co\n",
       "5     INTC.OQ                            Intel Corp\n",
       "6       DOW.N                               Dow Inc\n",
       "7       MRK.N                        Merck & Co Inc\n",
       "8       CVX.N                          Chevron Corp\n",
       "9       AXP.N                   American Express Co\n",
       "10       VZ.N            Verizon Communications Inc\n",
       "11       HD.N                        Home Depot Inc\n",
       "12     WBA.OQ          Walgreens Boots Alliance Inc\n",
       "13      XOM.N                      Exxon Mobil Corp\n",
       "14      MCD.N                       Mcdonald's Corp\n",
       "15      UNH.N                UnitedHealth Group Inc\n",
       "16       KO.N                          Coca-Cola Co\n",
       "17      JNJ.N                     Johnson & Johnson\n",
       "18    MSFT.OQ                        Microsoft Corp\n",
       "19       PG.N                   Procter & Gamble Co\n",
       "20      IBM.N  International Business Machines Corp\n",
       "21      PFE.N                            Pfizer Inc\n",
       "22      MMM.N                                 3M Co\n",
       "23    AAPL.OQ                             Apple Inc\n",
       "24      WMT.N                           Walmart Inc\n",
       "25      UTX.N              United Technologies Corp\n",
       "26      CAT.N                       Caterpillar Inc\n",
       "27        V.N                              Visa Inc\n",
       "28      TRV.N               Travelers Companies Inc\n",
       "29       BA.N                             Boeing Co"
      ]
     },
     "execution_count": 5,
     "metadata": {},
     "output_type": "execute_result"
    }
   ],
   "source": [
    "data, err = ek.get_data(chain_ric,['TR.CompanyName'])\n",
    "data"
   ]
  },
  {
   "cell_type": "markdown",
   "metadata": {},
   "source": [
    "Next, we get a list of RICs for the first 5 rows of returned Dataframe object."
   ]
  },
  {
   "cell_type": "code",
   "execution_count": 6,
   "metadata": {},
   "outputs": [
    {
     "data": {
      "text/plain": [
       "['GS.N', 'NKE.N', 'CSCO.OQ', 'JPM.N', 'DIS.N']"
      ]
     },
     "execution_count": 6,
     "metadata": {},
     "output_type": "execute_result"
    }
   ],
   "source": [
    "rics = data.head()['Instrument'].tolist()\n",
    "rics"
   ]
  },
  {
   "cell_type": "markdown",
   "metadata": {},
   "source": [
    "Next, we get Company Geographic Sale data of each RIC and ploting a graph. Starting with the first RIC from Dow Jones Industrial Average index."
   ]
  },
  {
   "cell_type": "code",
   "execution_count": 7,
   "metadata": {},
   "outputs": [
    {
     "data": {
      "text/plain": [
       "'GS.N'"
      ]
     },
     "execution_count": 7,
     "metadata": {},
     "output_type": "execute_result"
    }
   ],
   "source": [
    "rics[0]"
   ]
  },
  {
   "cell_type": "markdown",
   "metadata": {},
   "source": [
    "## How to get Company Geographic Sale Data\n",
    "\n",
    "Firstly, we use Eikon Data API's ```get_data``` function to request the following fields:\n",
    "- TR.BGS.GeoTotalRevenue.segmentName: Segment (Geographic) data\n",
    "- TR.BGS.GeoTotalRevenue: Each segment revenue value\n",
    "- TR.CompanyName"
   ]
  },
  {
   "cell_type": "code",
   "execution_count": 8,
   "metadata": {},
   "outputs": [
    {
     "data": {
      "text/html": [
       "<div>\n",
       "<style scoped>\n",
       "    .dataframe tbody tr th:only-of-type {\n",
       "        vertical-align: middle;\n",
       "    }\n",
       "\n",
       "    .dataframe tbody tr th {\n",
       "        vertical-align: top;\n",
       "    }\n",
       "\n",
       "    .dataframe thead th {\n",
       "        text-align: right;\n",
       "    }\n",
       "</style>\n",
       "<table border=\"1\" class=\"dataframe\">\n",
       "  <thead>\n",
       "    <tr style=\"text-align: right;\">\n",
       "      <th></th>\n",
       "      <th>Instrument</th>\n",
       "      <th>Segment Name</th>\n",
       "      <th>Geographic Total Revenues (Calculated)</th>\n",
       "      <th>Company Name</th>\n",
       "    </tr>\n",
       "  </thead>\n",
       "  <tbody>\n",
       "    <tr>\n",
       "      <th>0</th>\n",
       "      <td>GS.N</td>\n",
       "      <td>Americas</td>\n",
       "      <td>22148000000</td>\n",
       "      <td>Goldman Sachs Group Inc</td>\n",
       "    </tr>\n",
       "    <tr>\n",
       "      <th>1</th>\n",
       "      <td>GS.N</td>\n",
       "      <td>Europe, Middle East and Africa</td>\n",
       "      <td>9745000000</td>\n",
       "      <td></td>\n",
       "    </tr>\n",
       "    <tr>\n",
       "      <th>2</th>\n",
       "      <td>GS.N</td>\n",
       "      <td>Asia</td>\n",
       "      <td>4653000000</td>\n",
       "      <td></td>\n",
       "    </tr>\n",
       "    <tr>\n",
       "      <th>3</th>\n",
       "      <td>GS.N</td>\n",
       "      <td>Segment Total</td>\n",
       "      <td>36546000000</td>\n",
       "      <td></td>\n",
       "    </tr>\n",
       "    <tr>\n",
       "      <th>4</th>\n",
       "      <td>GS.N</td>\n",
       "      <td>Consolidated Total</td>\n",
       "      <td>36546000000</td>\n",
       "      <td></td>\n",
       "    </tr>\n",
       "  </tbody>\n",
       "</table>\n",
       "</div>"
      ],
      "text/plain": [
       "  Instrument                    Segment Name  \\\n",
       "0       GS.N                        Americas   \n",
       "1       GS.N  Europe, Middle East and Africa   \n",
       "2       GS.N                            Asia   \n",
       "3       GS.N                   Segment Total   \n",
       "4       GS.N              Consolidated Total   \n",
       "\n",
       "   Geographic Total Revenues (Calculated)             Company Name  \n",
       "0                             22148000000  Goldman Sachs Group Inc  \n",
       "1                              9745000000                           \n",
       "2                              4653000000                           \n",
       "3                             36546000000                           \n",
       "4                             36546000000                           "
      ]
     },
     "execution_count": 8,
     "metadata": {},
     "output_type": "execute_result"
    }
   ],
   "source": [
    "df,err = ek.get_data(rics[0], ['TR.BGS.GeoTotalRevenue.segmentName', 'TR.BGS.GeoTotalRevenue','TR.CompanyName'])\n",
    "df"
   ]
  },
  {
   "cell_type": "markdown",
   "metadata": {},
   "source": [
    "Then, we rename *Segment Name* and *Geographic Total Revenues (Calculated)* columns to readable names like *Geographic* and *Revenue*."
   ]
  },
  {
   "cell_type": "code",
   "execution_count": 9,
   "metadata": {},
   "outputs": [
    {
     "data": {
      "text/html": [
       "<div>\n",
       "<style scoped>\n",
       "    .dataframe tbody tr th:only-of-type {\n",
       "        vertical-align: middle;\n",
       "    }\n",
       "\n",
       "    .dataframe tbody tr th {\n",
       "        vertical-align: top;\n",
       "    }\n",
       "\n",
       "    .dataframe thead th {\n",
       "        text-align: right;\n",
       "    }\n",
       "</style>\n",
       "<table border=\"1\" class=\"dataframe\">\n",
       "  <thead>\n",
       "    <tr style=\"text-align: right;\">\n",
       "      <th></th>\n",
       "      <th>Instrument</th>\n",
       "      <th>Geographic</th>\n",
       "      <th>Revenues</th>\n",
       "      <th>Company Name</th>\n",
       "    </tr>\n",
       "  </thead>\n",
       "  <tbody>\n",
       "    <tr>\n",
       "      <th>0</th>\n",
       "      <td>GS.N</td>\n",
       "      <td>Americas</td>\n",
       "      <td>22148000000</td>\n",
       "      <td>Goldman Sachs Group Inc</td>\n",
       "    </tr>\n",
       "    <tr>\n",
       "      <th>1</th>\n",
       "      <td>GS.N</td>\n",
       "      <td>Europe, Middle East and Africa</td>\n",
       "      <td>9745000000</td>\n",
       "      <td></td>\n",
       "    </tr>\n",
       "    <tr>\n",
       "      <th>2</th>\n",
       "      <td>GS.N</td>\n",
       "      <td>Asia</td>\n",
       "      <td>4653000000</td>\n",
       "      <td></td>\n",
       "    </tr>\n",
       "    <tr>\n",
       "      <th>3</th>\n",
       "      <td>GS.N</td>\n",
       "      <td>Segment Total</td>\n",
       "      <td>36546000000</td>\n",
       "      <td></td>\n",
       "    </tr>\n",
       "    <tr>\n",
       "      <th>4</th>\n",
       "      <td>GS.N</td>\n",
       "      <td>Consolidated Total</td>\n",
       "      <td>36546000000</td>\n",
       "      <td></td>\n",
       "    </tr>\n",
       "  </tbody>\n",
       "</table>\n",
       "</div>"
      ],
      "text/plain": [
       "  Instrument                      Geographic     Revenues  \\\n",
       "0       GS.N                        Americas  22148000000   \n",
       "1       GS.N  Europe, Middle East and Africa   9745000000   \n",
       "2       GS.N                            Asia   4653000000   \n",
       "3       GS.N                   Segment Total  36546000000   \n",
       "4       GS.N              Consolidated Total  36546000000   \n",
       "\n",
       "              Company Name  \n",
       "0  Goldman Sachs Group Inc  \n",
       "1                           \n",
       "2                           \n",
       "3                           \n",
       "4                           "
      ]
     },
     "execution_count": 9,
     "metadata": {},
     "output_type": "execute_result"
    }
   ],
   "source": [
    "df_graph = df.copy()\n",
    "\n",
    "df_graph.rename(columns={\n",
    "                   'Segment Name':'Geographic',\n",
    "                   'Geographic Total Revenues (Calculated)':'Revenues'},\n",
    "         inplace = True)\n",
    "\n",
    "df_graph"
   ]
  },
  {
   "cell_type": "markdown",
   "metadata": {},
   "source": [
    "The returned Dataframe object from ```get_data``` function contains the summary revenue sale values in Segment's *Segment Total* and *Consolidated Total* rows.\n",
    "\n",
    "We will use the *Consolidated Total* information as a summary sale value in this notebook. We get this sale from the last row of Dataframe."
   ]
  },
  {
   "cell_type": "code",
   "execution_count": 10,
   "metadata": {},
   "outputs": [
    {
     "data": {
      "text/plain": [
       "36546000000"
      ]
     },
     "execution_count": 10,
     "metadata": {},
     "output_type": "execute_result"
    }
   ],
   "source": [
    "total_sale = df_graph.iloc[df_graph.shape[0] - 1]['Revenues']\n",
    "total_sale"
   ]
  },
  {
   "cell_type": "markdown",
   "metadata": {},
   "source": [
    "Get the company name information from the first row of Dataframe object which is the only row that contains *Company Name* column data."
   ]
  },
  {
   "cell_type": "code",
   "execution_count": 11,
   "metadata": {},
   "outputs": [
    {
     "data": {
      "text/plain": [
       "'Goldman Sachs Group Inc'"
      ]
     },
     "execution_count": 11,
     "metadata": {},
     "output_type": "execute_result"
    }
   ],
   "source": [
    "company_name = df_graph.iloc[0]['Company Name']\n",
    "company_name\n"
   ]
  },
  {
   "cell_type": "markdown",
   "metadata": {},
   "source": [
    "Remove total sale rows from Dataframe object before ploting a graph."
   ]
  },
  {
   "cell_type": "code",
   "execution_count": 12,
   "metadata": {},
   "outputs": [],
   "source": [
    "df_graph = df_graph[df_graph['Geographic'] != 'Segment Total']\n",
    "df_graph = df_graph[df_graph['Geographic'] != 'Consolidated Total']"
   ]
  },
  {
   "cell_type": "markdown",
   "metadata": {},
   "source": [
    "Then we define a function for formatting sale number values. The function receives incoming large revenue numbers from Notebook, then reformats that value into a readable numbers in trillions, billions or millions unit.\n",
    "\n",
    "This code is based on [Dan Friedman](https://github.com/frieds/frieds.github.io)'s [How to Format Large Tick Values tutorial](https://github.com/frieds/frieds.github.io/tree/master/data-visualizations/how_to_format_large_tick_values_files) source code via GitHub."
   ]
  },
  {
   "cell_type": "code",
   "execution_count": 13,
   "metadata": {},
   "outputs": [],
   "source": [
    "def format_revenues_number(tick_val, pos):\n",
    "    \"\"\"\n",
    "    Turns large tick values (in the trillions, billions, millions and thousands) such as 4500 into 4.5K \n",
    "    and also appropriately turns 4000 into 4K (no zero after the decimal).\n",
    "    \"\"\"\n",
    "    if tick_val >= 1000000000000: # Add support for trillions\n",
    "        val = round(tick_val/1000000000000, 1)\n",
    "        new_tick_format = '{:}T'.format(val)\n",
    "    elif tick_val >= 1000000000:\n",
    "        val = round(tick_val/1000000000, 1)\n",
    "        new_tick_format = '{:}B'.format(val)\n",
    "    elif tick_val >= 1000000:\n",
    "        val = round(tick_val/1000000, 1)\n",
    "        new_tick_format = '{:}M'.format(val)\n",
    "    elif tick_val >= 1000:\n",
    "        val = round(tick_val/1000, 1)\n",
    "        new_tick_format = '{:}K'.format(val)\n",
    "    elif tick_val < 1000:\n",
    "        new_tick_format = round(tick_val, 1)\n",
    "    else:\n",
    "        new_tick_format = tick_val\n",
    "\n",
    "     # make new_tick_format into a string value\n",
    "    new_tick_format = str(new_tick_format)\n",
    "    \"\"\"\n",
    "    code below will keep 4.5M as is but change values such as 4.0M to 4M since that \n",
    "    zero after the decimal isn't needed\n",
    "    \"\"\"\n",
    "    index_of_decimal = new_tick_format.find(\".\")\n",
    "    \n",
    "    if index_of_decimal != -1:\n",
    "        value_after_decimal = new_tick_format[index_of_decimal+1]\n",
    "        if value_after_decimal == \"0\":\n",
    "            # remove the 0 after the decimal point since it's not needed\n",
    "            new_tick_format = new_tick_format[0:index_of_decimal] + new_tick_format[index_of_decimal+2:]\n",
    "            \n",
    "    return new_tick_format"
   ]
  },
  {
   "cell_type": "markdown",
   "metadata": {},
   "source": [
    "Finally, we draw a bar graph."
   ]
  },
  {
   "cell_type": "code",
   "execution_count": 14,
   "metadata": {},
   "outputs": [
    {
     "data": {
      "image/png": "[encoded data removed]",
      "text/plain": [
       "<Figure size 432x288 with 1 Axes>"
      ]
     },
     "metadata": {
      "needs_background": "light"
     },
     "output_type": "display_data"
    }
   ],
   "source": [
    "# Plotting a Graph\n",
    "\n",
    "df_graph.set_index('Geographic',drop=True,inplace=True)\n",
    "fig = plt.figure()\n",
    "\n",
    "#Format Total Sale display unit as a graph footer.\n",
    "fig.text(.5, -.05, 'Consolidated Total Sale %s' %(f'{total_sale:,.2f}'), ha='center',fontsize='large')\n",
    "\n",
    "# Create graph title from Company and RIC names dynamically.\n",
    "plt.ticklabel_format(style = 'plain')\n",
    "plt.title('%s (%s) Geographic Sale Breakdown' % (company_name, rics[0]), color='black',fontsize='x-large')\n",
    "ax = fig.gca()\n",
    "\n",
    "#Apply Sale data into millions function.\n",
    "formatter = FuncFormatter(format_revenues_number)\n",
    "ax.xaxis.set_major_formatter(formatter)\n",
    "\n",
    "df_graph.plot(kind='barh', ax = fig.gca())\n",
    "plt.show()"
   ]
  },
  {
   "cell_type": "markdown",
   "metadata": {},
   "source": [
    "Continue the next RIC, getting Company Fundamentals Data."
   ]
  },
  {
   "cell_type": "code",
   "execution_count": 15,
   "metadata": {},
   "outputs": [
    {
     "data": {
      "text/plain": [
       "'NKE.N'"
      ]
     },
     "execution_count": 15,
     "metadata": {},
     "output_type": "execute_result"
    }
   ],
   "source": [
    "rics[1]"
   ]
  },
  {
   "cell_type": "code",
   "execution_count": 16,
   "metadata": {},
   "outputs": [
    {
     "data": {
      "text/html": [
       "<div>\n",
       "<style scoped>\n",
       "    .dataframe tbody tr th:only-of-type {\n",
       "        vertical-align: middle;\n",
       "    }\n",
       "\n",
       "    .dataframe tbody tr th {\n",
       "        vertical-align: top;\n",
       "    }\n",
       "\n",
       "    .dataframe thead th {\n",
       "        text-align: right;\n",
       "    }\n",
       "</style>\n",
       "<table border=\"1\" class=\"dataframe\">\n",
       "  <thead>\n",
       "    <tr style=\"text-align: right;\">\n",
       "      <th></th>\n",
       "      <th>Instrument</th>\n",
       "      <th>Segment Name</th>\n",
       "      <th>Geographic Total Revenues (Calculated)</th>\n",
       "      <th>Company Name</th>\n",
       "    </tr>\n",
       "  </thead>\n",
       "  <tbody>\n",
       "    <tr>\n",
       "      <th>0</th>\n",
       "      <td>NKE.N</td>\n",
       "      <td>Asia Pacific &amp; Latin America-Other</td>\n",
       "      <td>0</td>\n",
       "      <td>Nike Inc</td>\n",
       "    </tr>\n",
       "    <tr>\n",
       "      <th>1</th>\n",
       "      <td>NKE.N</td>\n",
       "      <td>Asia Pacific &amp; Latin America-Footwear</td>\n",
       "      <td>3622000000</td>\n",
       "      <td></td>\n",
       "    </tr>\n",
       "    <tr>\n",
       "      <th>2</th>\n",
       "      <td>NKE.N</td>\n",
       "      <td>Asia Pacific &amp; Latin America-Equipment</td>\n",
       "      <td>237000000</td>\n",
       "      <td></td>\n",
       "    </tr>\n",
       "    <tr>\n",
       "      <th>3</th>\n",
       "      <td>NKE.N</td>\n",
       "      <td>Asia Pacific &amp; Latin America-Apparel</td>\n",
       "      <td>1395000000</td>\n",
       "      <td></td>\n",
       "    </tr>\n",
       "    <tr>\n",
       "      <th>4</th>\n",
       "      <td>NKE.N</td>\n",
       "      <td>Europe, Middle East, Africa-Other</td>\n",
       "      <td>0</td>\n",
       "      <td></td>\n",
       "    </tr>\n",
       "    <tr>\n",
       "      <th>5</th>\n",
       "      <td>NKE.N</td>\n",
       "      <td>Europe, Middle East, Africa-Footwear</td>\n",
       "      <td>6293000000</td>\n",
       "      <td></td>\n",
       "    </tr>\n",
       "    <tr>\n",
       "      <th>6</th>\n",
       "      <td>NKE.N</td>\n",
       "      <td>Europe, Middle East, Africa-Equipment</td>\n",
       "      <td>432000000</td>\n",
       "      <td></td>\n",
       "    </tr>\n",
       "    <tr>\n",
       "      <th>7</th>\n",
       "      <td>NKE.N</td>\n",
       "      <td>Europe, Middle East, Africa-Apparel</td>\n",
       "      <td>3087000000</td>\n",
       "      <td></td>\n",
       "    </tr>\n",
       "    <tr>\n",
       "      <th>8</th>\n",
       "      <td>NKE.N</td>\n",
       "      <td>Greater China-Other</td>\n",
       "      <td>0</td>\n",
       "      <td></td>\n",
       "    </tr>\n",
       "    <tr>\n",
       "      <th>9</th>\n",
       "      <td>NKE.N</td>\n",
       "      <td>Greater China-Footwear</td>\n",
       "      <td>4262000000</td>\n",
       "      <td></td>\n",
       "    </tr>\n",
       "    <tr>\n",
       "      <th>10</th>\n",
       "      <td>NKE.N</td>\n",
       "      <td>Greater China-Equipment</td>\n",
       "      <td>138000000</td>\n",
       "      <td></td>\n",
       "    </tr>\n",
       "    <tr>\n",
       "      <th>11</th>\n",
       "      <td>NKE.N</td>\n",
       "      <td>Greater China-Apparel</td>\n",
       "      <td>1808000000</td>\n",
       "      <td></td>\n",
       "    </tr>\n",
       "    <tr>\n",
       "      <th>12</th>\n",
       "      <td>NKE.N</td>\n",
       "      <td>North America-Other</td>\n",
       "      <td>0</td>\n",
       "      <td></td>\n",
       "    </tr>\n",
       "    <tr>\n",
       "      <th>13</th>\n",
       "      <td>NKE.N</td>\n",
       "      <td>North America-Footwear</td>\n",
       "      <td>10045000000</td>\n",
       "      <td></td>\n",
       "    </tr>\n",
       "    <tr>\n",
       "      <th>14</th>\n",
       "      <td>NKE.N</td>\n",
       "      <td>North America-Equipment</td>\n",
       "      <td>597000000</td>\n",
       "      <td></td>\n",
       "    </tr>\n",
       "    <tr>\n",
       "      <th>15</th>\n",
       "      <td>NKE.N</td>\n",
       "      <td>North America-Apparel</td>\n",
       "      <td>5260000000</td>\n",
       "      <td></td>\n",
       "    </tr>\n",
       "    <tr>\n",
       "      <th>16</th>\n",
       "      <td>NKE.N</td>\n",
       "      <td>Segment Total</td>\n",
       "      <td>37176000000</td>\n",
       "      <td></td>\n",
       "    </tr>\n",
       "    <tr>\n",
       "      <th>17</th>\n",
       "      <td>NKE.N</td>\n",
       "      <td>Converse-Other</td>\n",
       "      <td>106000000</td>\n",
       "      <td></td>\n",
       "    </tr>\n",
       "    <tr>\n",
       "      <th>18</th>\n",
       "      <td>NKE.N</td>\n",
       "      <td>Converse-Footwear</td>\n",
       "      <td>1658000000</td>\n",
       "      <td></td>\n",
       "    </tr>\n",
       "    <tr>\n",
       "      <th>19</th>\n",
       "      <td>NKE.N</td>\n",
       "      <td>Converse-Equipment</td>\n",
       "      <td>24000000</td>\n",
       "      <td></td>\n",
       "    </tr>\n",
       "    <tr>\n",
       "      <th>20</th>\n",
       "      <td>NKE.N</td>\n",
       "      <td>Converse-Apparel</td>\n",
       "      <td>118000000</td>\n",
       "      <td></td>\n",
       "    </tr>\n",
       "    <tr>\n",
       "      <th>21</th>\n",
       "      <td>NKE.N</td>\n",
       "      <td>Corporate-Other</td>\n",
       "      <td>-7000000</td>\n",
       "      <td></td>\n",
       "    </tr>\n",
       "    <tr>\n",
       "      <th>22</th>\n",
       "      <td>NKE.N</td>\n",
       "      <td>Corporate-Footwear</td>\n",
       "      <td>0</td>\n",
       "      <td></td>\n",
       "    </tr>\n",
       "    <tr>\n",
       "      <th>23</th>\n",
       "      <td>NKE.N</td>\n",
       "      <td>Corporate-Equipment</td>\n",
       "      <td>0</td>\n",
       "      <td></td>\n",
       "    </tr>\n",
       "    <tr>\n",
       "      <th>24</th>\n",
       "      <td>NKE.N</td>\n",
       "      <td>Corporate-Apparel</td>\n",
       "      <td>0</td>\n",
       "      <td></td>\n",
       "    </tr>\n",
       "    <tr>\n",
       "      <th>25</th>\n",
       "      <td>NKE.N</td>\n",
       "      <td>Global Brand Divisions-Other</td>\n",
       "      <td>42000000</td>\n",
       "      <td></td>\n",
       "    </tr>\n",
       "    <tr>\n",
       "      <th>26</th>\n",
       "      <td>NKE.N</td>\n",
       "      <td>Global Brand Divisions-Footwear</td>\n",
       "      <td>0</td>\n",
       "      <td></td>\n",
       "    </tr>\n",
       "    <tr>\n",
       "      <th>27</th>\n",
       "      <td>NKE.N</td>\n",
       "      <td>Global Brand Divisions-Equipment</td>\n",
       "      <td>0</td>\n",
       "      <td></td>\n",
       "    </tr>\n",
       "    <tr>\n",
       "      <th>28</th>\n",
       "      <td>NKE.N</td>\n",
       "      <td>Global Brand Divisions-Apparel</td>\n",
       "      <td>0</td>\n",
       "      <td></td>\n",
       "    </tr>\n",
       "    <tr>\n",
       "      <th>29</th>\n",
       "      <td>NKE.N</td>\n",
       "      <td>Consolidated Total</td>\n",
       "      <td>39117000000</td>\n",
       "      <td></td>\n",
       "    </tr>\n",
       "  </tbody>\n",
       "</table>\n",
       "</div>"
      ],
      "text/plain": [
       "   Instrument                            Segment Name  \\\n",
       "0       NKE.N      Asia Pacific & Latin America-Other   \n",
       "1       NKE.N   Asia Pacific & Latin America-Footwear   \n",
       "2       NKE.N  Asia Pacific & Latin America-Equipment   \n",
       "3       NKE.N    Asia Pacific & Latin America-Apparel   \n",
       "4       NKE.N       Europe, Middle East, Africa-Other   \n",
       "5       NKE.N    Europe, Middle East, Africa-Footwear   \n",
       "6       NKE.N   Europe, Middle East, Africa-Equipment   \n",
       "7       NKE.N     Europe, Middle East, Africa-Apparel   \n",
       "8       NKE.N                     Greater China-Other   \n",
       "9       NKE.N                  Greater China-Footwear   \n",
       "10      NKE.N                 Greater China-Equipment   \n",
       "11      NKE.N                   Greater China-Apparel   \n",
       "12      NKE.N                     North America-Other   \n",
       "13      NKE.N                  North America-Footwear   \n",
       "14      NKE.N                 North America-Equipment   \n",
       "15      NKE.N                   North America-Apparel   \n",
       "16      NKE.N                           Segment Total   \n",
       "17      NKE.N                          Converse-Other   \n",
       "18      NKE.N                       Converse-Footwear   \n",
       "19      NKE.N                      Converse-Equipment   \n",
       "20      NKE.N                        Converse-Apparel   \n",
       "21      NKE.N                         Corporate-Other   \n",
       "22      NKE.N                      Corporate-Footwear   \n",
       "23      NKE.N                     Corporate-Equipment   \n",
       "24      NKE.N                       Corporate-Apparel   \n",
       "25      NKE.N            Global Brand Divisions-Other   \n",
       "26      NKE.N         Global Brand Divisions-Footwear   \n",
       "27      NKE.N        Global Brand Divisions-Equipment   \n",
       "28      NKE.N          Global Brand Divisions-Apparel   \n",
       "29      NKE.N                      Consolidated Total   \n",
       "\n",
       "    Geographic Total Revenues (Calculated) Company Name  \n",
       "0                                        0     Nike Inc  \n",
       "1                               3622000000               \n",
       "2                                237000000               \n",
       "3                               1395000000               \n",
       "4                                        0               \n",
       "5                               6293000000               \n",
       "6                                432000000               \n",
       "7                               3087000000               \n",
       "8                                        0               \n",
       "9                               4262000000               \n",
       "10                               138000000               \n",
       "11                              1808000000               \n",
       "12                                       0               \n",
       "13                             10045000000               \n",
       "14                               597000000               \n",
       "15                              5260000000               \n",
       "16                             37176000000               \n",
       "17                               106000000               \n",
       "18                              1658000000               \n",
       "19                                24000000               \n",
       "20                               118000000               \n",
       "21                                -7000000               \n",
       "22                                       0               \n",
       "23                                       0               \n",
       "24                                       0               \n",
       "25                                42000000               \n",
       "26                                       0               \n",
       "27                                       0               \n",
       "28                                       0               \n",
       "29                             39117000000               "
      ]
     },
     "execution_count": 16,
     "metadata": {},
     "output_type": "execute_result"
    }
   ],
   "source": [
    "# Get Company fundamentals data via Eikon.get_data function\n",
    "\n",
    "df,err = ek.get_data(rics[1], ['TR.BGS.GeoTotalRevenue.segmentName', 'TR.BGS.GeoTotalRevenue','TR.CompanyName'])\n",
    "df"
   ]
  },
  {
   "cell_type": "code",
   "execution_count": 17,
   "metadata": {},
   "outputs": [
    {
     "data": {
      "text/plain": [
       "'Nike Inc'"
      ]
     },
     "execution_count": 17,
     "metadata": {},
     "output_type": "execute_result"
    }
   ],
   "source": [
    "# Get Company Name\n",
    "\n",
    "company_name = df.iloc[0]['Company Name']\n",
    "company_name"
   ]
  },
  {
   "cell_type": "code",
   "execution_count": 18,
   "metadata": {},
   "outputs": [
    {
     "data": {
      "text/html": [
       "<div>\n",
       "<style scoped>\n",
       "    .dataframe tbody tr th:only-of-type {\n",
       "        vertical-align: middle;\n",
       "    }\n",
       "\n",
       "    .dataframe tbody tr th {\n",
       "        vertical-align: top;\n",
       "    }\n",
       "\n",
       "    .dataframe thead th {\n",
       "        text-align: right;\n",
       "    }\n",
       "</style>\n",
       "<table border=\"1\" class=\"dataframe\">\n",
       "  <thead>\n",
       "    <tr style=\"text-align: right;\">\n",
       "      <th></th>\n",
       "      <th>Instrument</th>\n",
       "      <th>Geographic</th>\n",
       "      <th>Revenues</th>\n",
       "      <th>Company Name</th>\n",
       "    </tr>\n",
       "  </thead>\n",
       "  <tbody>\n",
       "    <tr>\n",
       "      <th>0</th>\n",
       "      <td>NKE.N</td>\n",
       "      <td>Asia Pacific &amp; Latin America-Other</td>\n",
       "      <td>0</td>\n",
       "      <td>Nike Inc</td>\n",
       "    </tr>\n",
       "    <tr>\n",
       "      <th>1</th>\n",
       "      <td>NKE.N</td>\n",
       "      <td>Asia Pacific &amp; Latin America-Footwear</td>\n",
       "      <td>3622000000</td>\n",
       "      <td></td>\n",
       "    </tr>\n",
       "    <tr>\n",
       "      <th>2</th>\n",
       "      <td>NKE.N</td>\n",
       "      <td>Asia Pacific &amp; Latin America-Equipment</td>\n",
       "      <td>237000000</td>\n",
       "      <td></td>\n",
       "    </tr>\n",
       "    <tr>\n",
       "      <th>3</th>\n",
       "      <td>NKE.N</td>\n",
       "      <td>Asia Pacific &amp; Latin America-Apparel</td>\n",
       "      <td>1395000000</td>\n",
       "      <td></td>\n",
       "    </tr>\n",
       "    <tr>\n",
       "      <th>4</th>\n",
       "      <td>NKE.N</td>\n",
       "      <td>Europe, Middle East, Africa-Other</td>\n",
       "      <td>0</td>\n",
       "      <td></td>\n",
       "    </tr>\n",
       "    <tr>\n",
       "      <th>5</th>\n",
       "      <td>NKE.N</td>\n",
       "      <td>Europe, Middle East, Africa-Footwear</td>\n",
       "      <td>6293000000</td>\n",
       "      <td></td>\n",
       "    </tr>\n",
       "    <tr>\n",
       "      <th>6</th>\n",
       "      <td>NKE.N</td>\n",
       "      <td>Europe, Middle East, Africa-Equipment</td>\n",
       "      <td>432000000</td>\n",
       "      <td></td>\n",
       "    </tr>\n",
       "    <tr>\n",
       "      <th>7</th>\n",
       "      <td>NKE.N</td>\n",
       "      <td>Europe, Middle East, Africa-Apparel</td>\n",
       "      <td>3087000000</td>\n",
       "      <td></td>\n",
       "    </tr>\n",
       "    <tr>\n",
       "      <th>8</th>\n",
       "      <td>NKE.N</td>\n",
       "      <td>Greater China-Other</td>\n",
       "      <td>0</td>\n",
       "      <td></td>\n",
       "    </tr>\n",
       "    <tr>\n",
       "      <th>9</th>\n",
       "      <td>NKE.N</td>\n",
       "      <td>Greater China-Footwear</td>\n",
       "      <td>4262000000</td>\n",
       "      <td></td>\n",
       "    </tr>\n",
       "    <tr>\n",
       "      <th>10</th>\n",
       "      <td>NKE.N</td>\n",
       "      <td>Greater China-Equipment</td>\n",
       "      <td>138000000</td>\n",
       "      <td></td>\n",
       "    </tr>\n",
       "    <tr>\n",
       "      <th>11</th>\n",
       "      <td>NKE.N</td>\n",
       "      <td>Greater China-Apparel</td>\n",
       "      <td>1808000000</td>\n",
       "      <td></td>\n",
       "    </tr>\n",
       "    <tr>\n",
       "      <th>12</th>\n",
       "      <td>NKE.N</td>\n",
       "      <td>North America-Other</td>\n",
       "      <td>0</td>\n",
       "      <td></td>\n",
       "    </tr>\n",
       "    <tr>\n",
       "      <th>13</th>\n",
       "      <td>NKE.N</td>\n",
       "      <td>North America-Footwear</td>\n",
       "      <td>10045000000</td>\n",
       "      <td></td>\n",
       "    </tr>\n",
       "    <tr>\n",
       "      <th>14</th>\n",
       "      <td>NKE.N</td>\n",
       "      <td>North America-Equipment</td>\n",
       "      <td>597000000</td>\n",
       "      <td></td>\n",
       "    </tr>\n",
       "    <tr>\n",
       "      <th>15</th>\n",
       "      <td>NKE.N</td>\n",
       "      <td>North America-Apparel</td>\n",
       "      <td>5260000000</td>\n",
       "      <td></td>\n",
       "    </tr>\n",
       "    <tr>\n",
       "      <th>16</th>\n",
       "      <td>NKE.N</td>\n",
       "      <td>Segment Total</td>\n",
       "      <td>37176000000</td>\n",
       "      <td></td>\n",
       "    </tr>\n",
       "    <tr>\n",
       "      <th>17</th>\n",
       "      <td>NKE.N</td>\n",
       "      <td>Converse-Other</td>\n",
       "      <td>106000000</td>\n",
       "      <td></td>\n",
       "    </tr>\n",
       "    <tr>\n",
       "      <th>18</th>\n",
       "      <td>NKE.N</td>\n",
       "      <td>Converse-Footwear</td>\n",
       "      <td>1658000000</td>\n",
       "      <td></td>\n",
       "    </tr>\n",
       "    <tr>\n",
       "      <th>19</th>\n",
       "      <td>NKE.N</td>\n",
       "      <td>Converse-Equipment</td>\n",
       "      <td>24000000</td>\n",
       "      <td></td>\n",
       "    </tr>\n",
       "    <tr>\n",
       "      <th>20</th>\n",
       "      <td>NKE.N</td>\n",
       "      <td>Converse-Apparel</td>\n",
       "      <td>118000000</td>\n",
       "      <td></td>\n",
       "    </tr>\n",
       "    <tr>\n",
       "      <th>21</th>\n",
       "      <td>NKE.N</td>\n",
       "      <td>Corporate-Other</td>\n",
       "      <td>-7000000</td>\n",
       "      <td></td>\n",
       "    </tr>\n",
       "    <tr>\n",
       "      <th>22</th>\n",
       "      <td>NKE.N</td>\n",
       "      <td>Corporate-Footwear</td>\n",
       "      <td>0</td>\n",
       "      <td></td>\n",
       "    </tr>\n",
       "    <tr>\n",
       "      <th>23</th>\n",
       "      <td>NKE.N</td>\n",
       "      <td>Corporate-Equipment</td>\n",
       "      <td>0</td>\n",
       "      <td></td>\n",
       "    </tr>\n",
       "    <tr>\n",
       "      <th>24</th>\n",
       "      <td>NKE.N</td>\n",
       "      <td>Corporate-Apparel</td>\n",
       "      <td>0</td>\n",
       "      <td></td>\n",
       "    </tr>\n",
       "    <tr>\n",
       "      <th>25</th>\n",
       "      <td>NKE.N</td>\n",
       "      <td>Global Brand Divisions-Other</td>\n",
       "      <td>42000000</td>\n",
       "      <td></td>\n",
       "    </tr>\n",
       "    <tr>\n",
       "      <th>26</th>\n",
       "      <td>NKE.N</td>\n",
       "      <td>Global Brand Divisions-Footwear</td>\n",
       "      <td>0</td>\n",
       "      <td></td>\n",
       "    </tr>\n",
       "    <tr>\n",
       "      <th>27</th>\n",
       "      <td>NKE.N</td>\n",
       "      <td>Global Brand Divisions-Equipment</td>\n",
       "      <td>0</td>\n",
       "      <td></td>\n",
       "    </tr>\n",
       "    <tr>\n",
       "      <th>28</th>\n",
       "      <td>NKE.N</td>\n",
       "      <td>Global Brand Divisions-Apparel</td>\n",
       "      <td>0</td>\n",
       "      <td></td>\n",
       "    </tr>\n",
       "    <tr>\n",
       "      <th>29</th>\n",
       "      <td>NKE.N</td>\n",
       "      <td>Consolidated Total</td>\n",
       "      <td>39117000000</td>\n",
       "      <td></td>\n",
       "    </tr>\n",
       "  </tbody>\n",
       "</table>\n",
       "</div>"
      ],
      "text/plain": [
       "   Instrument                              Geographic     Revenues  \\\n",
       "0       NKE.N      Asia Pacific & Latin America-Other            0   \n",
       "1       NKE.N   Asia Pacific & Latin America-Footwear   3622000000   \n",
       "2       NKE.N  Asia Pacific & Latin America-Equipment    237000000   \n",
       "3       NKE.N    Asia Pacific & Latin America-Apparel   1395000000   \n",
       "4       NKE.N       Europe, Middle East, Africa-Other            0   \n",
       "5       NKE.N    Europe, Middle East, Africa-Footwear   6293000000   \n",
       "6       NKE.N   Europe, Middle East, Africa-Equipment    432000000   \n",
       "7       NKE.N     Europe, Middle East, Africa-Apparel   3087000000   \n",
       "8       NKE.N                     Greater China-Other            0   \n",
       "9       NKE.N                  Greater China-Footwear   4262000000   \n",
       "10      NKE.N                 Greater China-Equipment    138000000   \n",
       "11      NKE.N                   Greater China-Apparel   1808000000   \n",
       "12      NKE.N                     North America-Other            0   \n",
       "13      NKE.N                  North America-Footwear  10045000000   \n",
       "14      NKE.N                 North America-Equipment    597000000   \n",
       "15      NKE.N                   North America-Apparel   5260000000   \n",
       "16      NKE.N                           Segment Total  37176000000   \n",
       "17      NKE.N                          Converse-Other    106000000   \n",
       "18      NKE.N                       Converse-Footwear   1658000000   \n",
       "19      NKE.N                      Converse-Equipment     24000000   \n",
       "20      NKE.N                        Converse-Apparel    118000000   \n",
       "21      NKE.N                         Corporate-Other     -7000000   \n",
       "22      NKE.N                      Corporate-Footwear            0   \n",
       "23      NKE.N                     Corporate-Equipment            0   \n",
       "24      NKE.N                       Corporate-Apparel            0   \n",
       "25      NKE.N            Global Brand Divisions-Other     42000000   \n",
       "26      NKE.N         Global Brand Divisions-Footwear            0   \n",
       "27      NKE.N        Global Brand Divisions-Equipment            0   \n",
       "28      NKE.N          Global Brand Divisions-Apparel            0   \n",
       "29      NKE.N                      Consolidated Total  39117000000   \n",
       "\n",
       "   Company Name  \n",
       "0      Nike Inc  \n",
       "1                \n",
       "2                \n",
       "3                \n",
       "4                \n",
       "5                \n",
       "6                \n",
       "7                \n",
       "8                \n",
       "9                \n",
       "10               \n",
       "11               \n",
       "12               \n",
       "13               \n",
       "14               \n",
       "15               \n",
       "16               \n",
       "17               \n",
       "18               \n",
       "19               \n",
       "20               \n",
       "21               \n",
       "22               \n",
       "23               \n",
       "24               \n",
       "25               \n",
       "26               \n",
       "27               \n",
       "28               \n",
       "29               "
      ]
     },
     "execution_count": 18,
     "metadata": {},
     "output_type": "execute_result"
    }
   ],
   "source": [
    "# Change Dataframe object columns to be readable names.\n",
    "\n",
    "df_graph = df.copy()\n",
    "\n",
    "df_graph.rename(columns={\n",
    "                   'Segment Name':'Geographic',\n",
    "                   'Geographic Total Revenues (Calculated)':'Revenues'},\n",
    "         inplace = True)\n",
    "\n",
    "df_graph"
   ]
  },
  {
   "cell_type": "code",
   "execution_count": 19,
   "metadata": {},
   "outputs": [
    {
     "data": {
      "text/plain": [
       "39117000000"
      ]
     },
     "execution_count": 19,
     "metadata": {},
     "output_type": "execute_result"
    }
   ],
   "source": [
    "# Get Consolidate Total Sale summary value\n",
    "\n",
    "total_sale = df_graph.iloc[df_graph.shape[0] - 1]['Revenues']\n",
    "total_sale"
   ]
  },
  {
   "cell_type": "code",
   "execution_count": 20,
   "metadata": {},
   "outputs": [],
   "source": [
    "# Remove unused rows before ploting a grah\n",
    "\n",
    "df_graph = df_graph[df_graph['Geographic'] != 'Segment Total']\n",
    "df_graph = df_graph[df_graph['Geographic'] != 'Consolidated Total']"
   ]
  },
  {
   "cell_type": "markdown",
   "metadata": {},
   "source": [
    "If the company contains a lot of separate Geographic information (a lot of Dataframe rows), we need to adjust a graph size via a *figsize* parameter in ```DataFrame.plot()``` function.\n",
    "\n",
    "Example, this Nike RIC has a lot of regions information,so we adjust a graph size by using ```figsize=(10,7)``` parameter.\n",
    "- Reference: [Dataframe.plot() function](https://pandas.pydata.org/pandas-docs/stable/reference/api/pandas.DataFrame.plot.html)"
   ]
  },
  {
   "cell_type": "code",
   "execution_count": 21,
   "metadata": {},
   "outputs": [
    {
     "data": {
      "image/png": "[encoded data removed]",
      "text/plain": [
       "<Figure size 720x504 with 1 Axes>"
      ]
     },
     "metadata": {
      "needs_background": "light"
     },
     "output_type": "display_data"
    }
   ],
   "source": [
    "# Plotting a Graph\n",
    "\n",
    "df_graph.set_index('Geographic',drop=True,inplace=True)\n",
    "\n",
    "fig = plt.figure()\n",
    "#Format Total Sale display unit.\n",
    "fig.text(.5, -.05, 'Consolidated Total Sale %s' %(f'{total_sale:,.2f}'), ha='center',fontsize='large')\n",
    "\n",
    "plt.ticklabel_format(style = 'plain')\n",
    "plt.title('%s (%s) Geographic Sale Breakdown' % (company_name, rics[1]), color='black',fontsize='x-large')\n",
    "ax = fig.gca()\n",
    "\n",
    "#Apply Sale data into millions function.\n",
    "formatter = FuncFormatter(format_revenues_number)\n",
    "ax.xaxis.set_major_formatter(formatter)\n",
    "\n",
    "df_graph.plot(kind='barh', ax = fig.gca(),figsize=(10,7))\n",
    "plt.show()"
   ]
  },
  {
   "cell_type": "markdown",
   "metadata": {},
   "source": [
    "Continue the next ric."
   ]
  },
  {
   "cell_type": "code",
   "execution_count": 22,
   "metadata": {},
   "outputs": [
    {
     "data": {
      "text/plain": [
       "'CSCO.OQ'"
      ]
     },
     "execution_count": 22,
     "metadata": {},
     "output_type": "execute_result"
    }
   ],
   "source": [
    "rics[2]"
   ]
  },
  {
   "cell_type": "code",
   "execution_count": 23,
   "metadata": {},
   "outputs": [
    {
     "data": {
      "text/html": [
       "<div>\n",
       "<style scoped>\n",
       "    .dataframe tbody tr th:only-of-type {\n",
       "        vertical-align: middle;\n",
       "    }\n",
       "\n",
       "    .dataframe tbody tr th {\n",
       "        vertical-align: top;\n",
       "    }\n",
       "\n",
       "    .dataframe thead th {\n",
       "        text-align: right;\n",
       "    }\n",
       "</style>\n",
       "<table border=\"1\" class=\"dataframe\">\n",
       "  <thead>\n",
       "    <tr style=\"text-align: right;\">\n",
       "      <th></th>\n",
       "      <th>Instrument</th>\n",
       "      <th>Segment Name</th>\n",
       "      <th>Geographic Total Revenues (Calculated)</th>\n",
       "      <th>Company Name</th>\n",
       "    </tr>\n",
       "  </thead>\n",
       "  <tbody>\n",
       "    <tr>\n",
       "      <th>0</th>\n",
       "      <td>CSCO.OQ</td>\n",
       "      <td>Americas</td>\n",
       "      <td>3527000000</td>\n",
       "      <td>Cisco Systems Inc</td>\n",
       "    </tr>\n",
       "    <tr>\n",
       "      <th>1</th>\n",
       "      <td>CSCO.OQ</td>\n",
       "      <td>Europe/Middle East/Africa</td>\n",
       "      <td>13100000000</td>\n",
       "      <td></td>\n",
       "    </tr>\n",
       "    <tr>\n",
       "      <th>2</th>\n",
       "      <td>CSCO.OQ</td>\n",
       "      <td>APJC</td>\n",
       "      <td>7877000000</td>\n",
       "      <td></td>\n",
       "    </tr>\n",
       "    <tr>\n",
       "      <th>3</th>\n",
       "      <td>CSCO.OQ</td>\n",
       "      <td>United States</td>\n",
       "      <td>27400000000</td>\n",
       "      <td></td>\n",
       "    </tr>\n",
       "    <tr>\n",
       "      <th>4</th>\n",
       "      <td>CSCO.OQ</td>\n",
       "      <td>Segment Total</td>\n",
       "      <td>51904000000</td>\n",
       "      <td></td>\n",
       "    </tr>\n",
       "    <tr>\n",
       "      <th>5</th>\n",
       "      <td>CSCO.OQ</td>\n",
       "      <td>Consolidated Total</td>\n",
       "      <td>51904000000</td>\n",
       "      <td></td>\n",
       "    </tr>\n",
       "  </tbody>\n",
       "</table>\n",
       "</div>"
      ],
      "text/plain": [
       "  Instrument               Segment Name  \\\n",
       "0    CSCO.OQ                   Americas   \n",
       "1    CSCO.OQ  Europe/Middle East/Africa   \n",
       "2    CSCO.OQ                       APJC   \n",
       "3    CSCO.OQ              United States   \n",
       "4    CSCO.OQ              Segment Total   \n",
       "5    CSCO.OQ         Consolidated Total   \n",
       "\n",
       "   Geographic Total Revenues (Calculated)       Company Name  \n",
       "0                              3527000000  Cisco Systems Inc  \n",
       "1                             13100000000                     \n",
       "2                              7877000000                     \n",
       "3                             27400000000                     \n",
       "4                             51904000000                     \n",
       "5                             51904000000                     "
      ]
     },
     "execution_count": 23,
     "metadata": {},
     "output_type": "execute_result"
    }
   ],
   "source": [
    "# Get Company fundamentals data via Eikon.get_data function\n",
    "\n",
    "df,err = ek.get_data(rics[2], ['TR.BGS.GeoTotalRevenue.segmentName', 'TR.BGS.GeoTotalRevenue','TR.CompanyName'])\n",
    "df"
   ]
  },
  {
   "cell_type": "code",
   "execution_count": 24,
   "metadata": {},
   "outputs": [
    {
     "data": {
      "text/plain": [
       "'Cisco Systems Inc'"
      ]
     },
     "execution_count": 24,
     "metadata": {},
     "output_type": "execute_result"
    }
   ],
   "source": [
    "# Get Company Name\n",
    "\n",
    "company_name = df.iloc[0]['Company Name']\n",
    "company_name"
   ]
  },
  {
   "cell_type": "code",
   "execution_count": 25,
   "metadata": {},
   "outputs": [
    {
     "data": {
      "text/html": [
       "<div>\n",
       "<style scoped>\n",
       "    .dataframe tbody tr th:only-of-type {\n",
       "        vertical-align: middle;\n",
       "    }\n",
       "\n",
       "    .dataframe tbody tr th {\n",
       "        vertical-align: top;\n",
       "    }\n",
       "\n",
       "    .dataframe thead th {\n",
       "        text-align: right;\n",
       "    }\n",
       "</style>\n",
       "<table border=\"1\" class=\"dataframe\">\n",
       "  <thead>\n",
       "    <tr style=\"text-align: right;\">\n",
       "      <th></th>\n",
       "      <th>Instrument</th>\n",
       "      <th>Geographic</th>\n",
       "      <th>Revenues</th>\n",
       "      <th>Company Name</th>\n",
       "    </tr>\n",
       "  </thead>\n",
       "  <tbody>\n",
       "    <tr>\n",
       "      <th>0</th>\n",
       "      <td>CSCO.OQ</td>\n",
       "      <td>Americas</td>\n",
       "      <td>3527000000</td>\n",
       "      <td>Cisco Systems Inc</td>\n",
       "    </tr>\n",
       "    <tr>\n",
       "      <th>1</th>\n",
       "      <td>CSCO.OQ</td>\n",
       "      <td>Europe/Middle East/Africa</td>\n",
       "      <td>13100000000</td>\n",
       "      <td></td>\n",
       "    </tr>\n",
       "    <tr>\n",
       "      <th>2</th>\n",
       "      <td>CSCO.OQ</td>\n",
       "      <td>APJC</td>\n",
       "      <td>7877000000</td>\n",
       "      <td></td>\n",
       "    </tr>\n",
       "    <tr>\n",
       "      <th>3</th>\n",
       "      <td>CSCO.OQ</td>\n",
       "      <td>United States</td>\n",
       "      <td>27400000000</td>\n",
       "      <td></td>\n",
       "    </tr>\n",
       "    <tr>\n",
       "      <th>4</th>\n",
       "      <td>CSCO.OQ</td>\n",
       "      <td>Segment Total</td>\n",
       "      <td>51904000000</td>\n",
       "      <td></td>\n",
       "    </tr>\n",
       "    <tr>\n",
       "      <th>5</th>\n",
       "      <td>CSCO.OQ</td>\n",
       "      <td>Consolidated Total</td>\n",
       "      <td>51904000000</td>\n",
       "      <td></td>\n",
       "    </tr>\n",
       "  </tbody>\n",
       "</table>\n",
       "</div>"
      ],
      "text/plain": [
       "  Instrument                 Geographic     Revenues       Company Name\n",
       "0    CSCO.OQ                   Americas   3527000000  Cisco Systems Inc\n",
       "1    CSCO.OQ  Europe/Middle East/Africa  13100000000                   \n",
       "2    CSCO.OQ                       APJC   7877000000                   \n",
       "3    CSCO.OQ              United States  27400000000                   \n",
       "4    CSCO.OQ              Segment Total  51904000000                   \n",
       "5    CSCO.OQ         Consolidated Total  51904000000                   "
      ]
     },
     "execution_count": 25,
     "metadata": {},
     "output_type": "execute_result"
    }
   ],
   "source": [
    "# Change Dataframe object columns to be readable names.\n",
    "\n",
    "df_graph = df.copy()\n",
    "\n",
    "df_graph.rename(columns={\n",
    "                   'Segment Name':'Geographic',\n",
    "                   'Geographic Total Revenues (Calculated)':'Revenues'},\n",
    "         inplace = True)\n",
    "\n",
    "df_graph"
   ]
  },
  {
   "cell_type": "code",
   "execution_count": 26,
   "metadata": {},
   "outputs": [
    {
     "data": {
      "text/plain": [
       "51904000000"
      ]
     },
     "execution_count": 26,
     "metadata": {},
     "output_type": "execute_result"
    }
   ],
   "source": [
    "# Get Total Sale summary value\n",
    "\n",
    "total_sale = df_graph.iloc[df_graph.shape[0] - 1]['Revenues']\n",
    "total_sale"
   ]
  },
  {
   "cell_type": "code",
   "execution_count": 27,
   "metadata": {},
   "outputs": [],
   "source": [
    "# Remove unused rows before ploting a grah\n",
    "\n",
    "df_graph = df_graph[df_graph['Geographic'] != 'Segment Total']\n",
    "df_graph = df_graph[df_graph['Geographic'] != 'Consolidated Total']"
   ]
  },
  {
   "cell_type": "code",
   "execution_count": 28,
   "metadata": {},
   "outputs": [
    {
     "data": {
      "image/png": "[encoded data removed]",
      "text/plain": [
       "<Figure size 432x288 with 1 Axes>"
      ]
     },
     "metadata": {
      "needs_background": "light"
     },
     "output_type": "display_data"
    }
   ],
   "source": [
    "# Plotting a Graph\n",
    "\n",
    "df_graph.set_index('Geographic',drop=True,inplace=True)\n",
    "\n",
    "fig = plt.figure()\n",
    "#Format Total Sale display unit.\n",
    "fig.text(.5, -.05, 'Consolidated Total Sale %s' %(f'{total_sale:,.2f}'), ha='center',fontsize='large')\n",
    "\n",
    "plt.ticklabel_format(style = 'plain')\n",
    "plt.title('%s (%s) Geographic Sale Breakdown' % (company_name, rics[2]), color='black',fontsize='x-large')\n",
    "ax = fig.gca()\n",
    "\n",
    "#Apply Sale data into millions function.\n",
    "formatter = FuncFormatter(format_revenues_number)\n",
    "ax.xaxis.set_major_formatter(formatter)\n",
    "\n",
    "df_graph.plot(kind='barh', ax = fig.gca())\n",
    "plt.show()"
   ]
  },
  {
   "cell_type": "markdown",
   "metadata": {},
   "source": [
    "Next we try list of interested RICs from Nikkei Index (RIC ```0#.N225```) as an example."
   ]
  },
  {
   "cell_type": "code",
   "execution_count": 29,
   "metadata": {},
   "outputs": [],
   "source": [
    "chain_ric = '0#.N225'"
   ]
  },
  {
   "cell_type": "markdown",
   "metadata": {},
   "source": [
    "Then we use Eikon Data API ```get_data``` function to get a list of RICs and Company names inside interested index RIC."
   ]
  },
  {
   "cell_type": "code",
   "execution_count": 30,
   "metadata": {},
   "outputs": [
    {
     "data": {
      "text/html": [
       "<div>\n",
       "<style scoped>\n",
       "    .dataframe tbody tr th:only-of-type {\n",
       "        vertical-align: middle;\n",
       "    }\n",
       "\n",
       "    .dataframe tbody tr th {\n",
       "        vertical-align: top;\n",
       "    }\n",
       "\n",
       "    .dataframe thead th {\n",
       "        text-align: right;\n",
       "    }\n",
       "</style>\n",
       "<table border=\"1\" class=\"dataframe\">\n",
       "  <thead>\n",
       "    <tr style=\"text-align: right;\">\n",
       "      <th></th>\n",
       "      <th>Instrument</th>\n",
       "      <th>Company Name</th>\n",
       "    </tr>\n",
       "  </thead>\n",
       "  <tbody>\n",
       "    <tr>\n",
       "      <th>0</th>\n",
       "      <td>6857.T</td>\n",
       "      <td>Advantest Corp</td>\n",
       "    </tr>\n",
       "    <tr>\n",
       "      <th>1</th>\n",
       "      <td>8267.T</td>\n",
       "      <td>Aeon Co Ltd</td>\n",
       "    </tr>\n",
       "    <tr>\n",
       "      <th>2</th>\n",
       "      <td>5201.T</td>\n",
       "      <td>AGC Inc</td>\n",
       "    </tr>\n",
       "    <tr>\n",
       "      <th>3</th>\n",
       "      <td>2802.T</td>\n",
       "      <td>Ajinomoto Co Inc</td>\n",
       "    </tr>\n",
       "    <tr>\n",
       "      <th>4</th>\n",
       "      <td>6770.T</td>\n",
       "      <td>Alps Alpine Co Ltd</td>\n",
       "    </tr>\n",
       "    <tr>\n",
       "      <th>...</th>\n",
       "      <td>...</td>\n",
       "      <td>...</td>\n",
       "    </tr>\n",
       "    <tr>\n",
       "      <th>220</th>\n",
       "      <td>9064.T</td>\n",
       "      <td>Yamato Holdings Co Ltd</td>\n",
       "    </tr>\n",
       "    <tr>\n",
       "      <th>221</th>\n",
       "      <td>6506.T</td>\n",
       "      <td>Yaskawa Electric Corp</td>\n",
       "    </tr>\n",
       "    <tr>\n",
       "      <th>222</th>\n",
       "      <td>6841.T</td>\n",
       "      <td>Yokogawa Electric Corp</td>\n",
       "    </tr>\n",
       "    <tr>\n",
       "      <th>223</th>\n",
       "      <td>5101.T</td>\n",
       "      <td>Yokohama Rubber Co Ltd</td>\n",
       "    </tr>\n",
       "    <tr>\n",
       "      <th>224</th>\n",
       "      <td>4689.T</td>\n",
       "      <td>Z Holdings Corp</td>\n",
       "    </tr>\n",
       "  </tbody>\n",
       "</table>\n",
       "<p>225 rows × 2 columns</p>\n",
       "</div>"
      ],
      "text/plain": [
       "    Instrument            Company Name\n",
       "0       6857.T          Advantest Corp\n",
       "1       8267.T             Aeon Co Ltd\n",
       "2       5201.T                 AGC Inc\n",
       "3       2802.T        Ajinomoto Co Inc\n",
       "4       6770.T      Alps Alpine Co Ltd\n",
       "..         ...                     ...\n",
       "220     9064.T  Yamato Holdings Co Ltd\n",
       "221     6506.T   Yaskawa Electric Corp\n",
       "222     6841.T  Yokogawa Electric Corp\n",
       "223     5101.T  Yokohama Rubber Co Ltd\n",
       "224     4689.T         Z Holdings Corp\n",
       "\n",
       "[225 rows x 2 columns]"
      ]
     },
     "execution_count": 30,
     "metadata": {},
     "output_type": "execute_result"
    }
   ],
   "source": [
    "data, err = ek.get_data(chain_ric,['TR.CompanyName'])\n",
    "data"
   ]
  },
  {
   "cell_type": "code",
   "execution_count": 31,
   "metadata": {},
   "outputs": [
    {
     "data": {
      "text/plain": [
       "['6857.T', '8267.T', '5201.T', '2802.T', '6770.T']"
      ]
     },
     "execution_count": 31,
     "metadata": {},
     "output_type": "execute_result"
    }
   ],
   "source": [
    "rics = data.head()['Instrument'].tolist()\n",
    "rics"
   ]
  },
  {
   "cell_type": "markdown",
   "metadata": {},
   "source": [
    "Try the first Nikkei Index RIC."
   ]
  },
  {
   "cell_type": "code",
   "execution_count": 32,
   "metadata": {},
   "outputs": [
    {
     "data": {
      "text/plain": [
       "'6857.T'"
      ]
     },
     "execution_count": 32,
     "metadata": {},
     "output_type": "execute_result"
    }
   ],
   "source": [
    "rics[0]"
   ]
  },
  {
   "cell_type": "markdown",
   "metadata": {},
   "source": [
    "Getting company fundamental data."
   ]
  },
  {
   "cell_type": "code",
   "execution_count": 33,
   "metadata": {},
   "outputs": [
    {
     "data": {
      "text/html": [
       "<div>\n",
       "<style scoped>\n",
       "    .dataframe tbody tr th:only-of-type {\n",
       "        vertical-align: middle;\n",
       "    }\n",
       "\n",
       "    .dataframe tbody tr th {\n",
       "        vertical-align: top;\n",
       "    }\n",
       "\n",
       "    .dataframe thead th {\n",
       "        text-align: right;\n",
       "    }\n",
       "</style>\n",
       "<table border=\"1\" class=\"dataframe\">\n",
       "  <thead>\n",
       "    <tr style=\"text-align: right;\">\n",
       "      <th></th>\n",
       "      <th>Instrument</th>\n",
       "      <th>Segment Name</th>\n",
       "      <th>Geographic Total Revenues (Calculated)</th>\n",
       "      <th>Company Name</th>\n",
       "    </tr>\n",
       "  </thead>\n",
       "  <tbody>\n",
       "    <tr>\n",
       "      <th>0</th>\n",
       "      <td>6857.T</td>\n",
       "      <td>Japan</td>\n",
       "      <td>14881000000</td>\n",
       "      <td>Advantest Corp</td>\n",
       "    </tr>\n",
       "    <tr>\n",
       "      <th>1</th>\n",
       "      <td>6857.T</td>\n",
       "      <td>Americas</td>\n",
       "      <td>13579000000</td>\n",
       "      <td></td>\n",
       "    </tr>\n",
       "    <tr>\n",
       "      <th>2</th>\n",
       "      <td>6857.T</td>\n",
       "      <td>Europe</td>\n",
       "      <td>7124000000</td>\n",
       "      <td></td>\n",
       "    </tr>\n",
       "    <tr>\n",
       "      <th>3</th>\n",
       "      <td>6857.T</td>\n",
       "      <td>Asia</td>\n",
       "      <td>246872000000</td>\n",
       "      <td></td>\n",
       "    </tr>\n",
       "    <tr>\n",
       "      <th>4</th>\n",
       "      <td>6857.T</td>\n",
       "      <td>Segment Total</td>\n",
       "      <td>282456000000</td>\n",
       "      <td></td>\n",
       "    </tr>\n",
       "    <tr>\n",
       "      <th>5</th>\n",
       "      <td>6857.T</td>\n",
       "      <td>Consolidated Total</td>\n",
       "      <td>282456000000</td>\n",
       "      <td></td>\n",
       "    </tr>\n",
       "  </tbody>\n",
       "</table>\n",
       "</div>"
      ],
      "text/plain": [
       "  Instrument        Segment Name  Geographic Total Revenues (Calculated)  \\\n",
       "0     6857.T               Japan                             14881000000   \n",
       "1     6857.T            Americas                             13579000000   \n",
       "2     6857.T              Europe                              7124000000   \n",
       "3     6857.T                Asia                            246872000000   \n",
       "4     6857.T       Segment Total                            282456000000   \n",
       "5     6857.T  Consolidated Total                            282456000000   \n",
       "\n",
       "     Company Name  \n",
       "0  Advantest Corp  \n",
       "1                  \n",
       "2                  \n",
       "3                  \n",
       "4                  \n",
       "5                  "
      ]
     },
     "execution_count": 33,
     "metadata": {},
     "output_type": "execute_result"
    }
   ],
   "source": [
    "# Get Company fundamentals data via Eikon.get_data function\n",
    "\n",
    "df,err = ek.get_data(rics[0], ['TR.BGS.GeoTotalRevenue.segmentName', 'TR.BGS.GeoTotalRevenue','TR.CompanyName'])\n",
    "df"
   ]
  },
  {
   "cell_type": "markdown",
   "metadata": {},
   "source": [
    "Get company name."
   ]
  },
  {
   "cell_type": "code",
   "execution_count": 34,
   "metadata": {},
   "outputs": [
    {
     "data": {
      "text/plain": [
       "'Advantest Corp'"
      ]
     },
     "execution_count": 34,
     "metadata": {},
     "output_type": "execute_result"
    }
   ],
   "source": [
    "# Get Company Name\n",
    "\n",
    "company_name = df.iloc[0]['Company Name']\n",
    "company_name"
   ]
  },
  {
   "cell_type": "markdown",
   "metadata": {},
   "source": [
    "Then we rename *Segment Name* and *Geographic Total Revenues (Calculated)* columns to readable names like *Geographic* and *Revenue*"
   ]
  },
  {
   "cell_type": "code",
   "execution_count": 35,
   "metadata": {},
   "outputs": [
    {
     "data": {
      "text/html": [
       "<div>\n",
       "<style scoped>\n",
       "    .dataframe tbody tr th:only-of-type {\n",
       "        vertical-align: middle;\n",
       "    }\n",
       "\n",
       "    .dataframe tbody tr th {\n",
       "        vertical-align: top;\n",
       "    }\n",
       "\n",
       "    .dataframe thead th {\n",
       "        text-align: right;\n",
       "    }\n",
       "</style>\n",
       "<table border=\"1\" class=\"dataframe\">\n",
       "  <thead>\n",
       "    <tr style=\"text-align: right;\">\n",
       "      <th></th>\n",
       "      <th>Instrument</th>\n",
       "      <th>Geographic</th>\n",
       "      <th>Revenues</th>\n",
       "      <th>Company Name</th>\n",
       "    </tr>\n",
       "  </thead>\n",
       "  <tbody>\n",
       "    <tr>\n",
       "      <th>0</th>\n",
       "      <td>6857.T</td>\n",
       "      <td>Japan</td>\n",
       "      <td>14881000000</td>\n",
       "      <td>Advantest Corp</td>\n",
       "    </tr>\n",
       "    <tr>\n",
       "      <th>1</th>\n",
       "      <td>6857.T</td>\n",
       "      <td>Americas</td>\n",
       "      <td>13579000000</td>\n",
       "      <td></td>\n",
       "    </tr>\n",
       "    <tr>\n",
       "      <th>2</th>\n",
       "      <td>6857.T</td>\n",
       "      <td>Europe</td>\n",
       "      <td>7124000000</td>\n",
       "      <td></td>\n",
       "    </tr>\n",
       "    <tr>\n",
       "      <th>3</th>\n",
       "      <td>6857.T</td>\n",
       "      <td>Asia</td>\n",
       "      <td>246872000000</td>\n",
       "      <td></td>\n",
       "    </tr>\n",
       "    <tr>\n",
       "      <th>4</th>\n",
       "      <td>6857.T</td>\n",
       "      <td>Segment Total</td>\n",
       "      <td>282456000000</td>\n",
       "      <td></td>\n",
       "    </tr>\n",
       "    <tr>\n",
       "      <th>5</th>\n",
       "      <td>6857.T</td>\n",
       "      <td>Consolidated Total</td>\n",
       "      <td>282456000000</td>\n",
       "      <td></td>\n",
       "    </tr>\n",
       "  </tbody>\n",
       "</table>\n",
       "</div>"
      ],
      "text/plain": [
       "  Instrument          Geographic      Revenues    Company Name\n",
       "0     6857.T               Japan   14881000000  Advantest Corp\n",
       "1     6857.T            Americas   13579000000                \n",
       "2     6857.T              Europe    7124000000                \n",
       "3     6857.T                Asia  246872000000                \n",
       "4     6857.T       Segment Total  282456000000                \n",
       "5     6857.T  Consolidated Total  282456000000                "
      ]
     },
     "execution_count": 35,
     "metadata": {},
     "output_type": "execute_result"
    }
   ],
   "source": [
    "df_graph = df.copy()\n",
    "\n",
    "df_graph.rename(columns={\n",
    "                   'Segment Name':'Geographic',\n",
    "                   'Geographic Total Revenues (Calculated)':'Revenues'},\n",
    "         inplace = True)\n",
    "\n",
    "df_graph"
   ]
  },
  {
   "cell_type": "markdown",
   "metadata": {},
   "source": [
    "Get Consolidate Total sales value."
   ]
  },
  {
   "cell_type": "code",
   "execution_count": 36,
   "metadata": {},
   "outputs": [
    {
     "data": {
      "text/plain": [
       "282456000000"
      ]
     },
     "execution_count": 36,
     "metadata": {},
     "output_type": "execute_result"
    }
   ],
   "source": [
    "total_sale = df_graph.iloc[df_graph.shape[0] - 1]['Revenues']\n",
    "total_sale"
   ]
  },
  {
   "cell_type": "markdown",
   "metadata": {},
   "source": [
    "Remove total sale rows from Dataframe object before ploting a grah. "
   ]
  },
  {
   "cell_type": "code",
   "execution_count": 37,
   "metadata": {},
   "outputs": [],
   "source": [
    "df_graph = df_graph[df_graph['Geographic'] != 'Segment Total']\n",
    "df_graph = df_graph[df_graph['Geographic'] != 'Consolidated Total']"
   ]
  },
  {
   "cell_type": "markdown",
   "metadata": {},
   "source": [
    "And then ploting a graph from Dataframe object."
   ]
  },
  {
   "cell_type": "code",
   "execution_count": 38,
   "metadata": {},
   "outputs": [
    {
     "data": {
      "image/png": "[encoded data removed]",
      "text/plain": [
       "<Figure size 432x288 with 1 Axes>"
      ]
     },
     "metadata": {
      "needs_background": "light"
     },
     "output_type": "display_data"
    }
   ],
   "source": [
    "# Plotting a Graph\n",
    "\n",
    "df_graph.set_index('Geographic',drop=True,inplace=True)\n",
    "fig = plt.figure()\n",
    "\n",
    "#Format Total Sale display unit as a graph footer.\n",
    "fig.text(.5, -.05, 'Consolidated Total Sale %s' %(f'{total_sale:,.2f}'), ha='center',fontsize='large')\n",
    "\n",
    "# Create graph title from Company and RIC names dynamically.\n",
    "plt.ticklabel_format(style = 'plain')\n",
    "plt.title('%s (%s) Geographic Sale Breakdown' % (company_name, rics[0]), color='black',fontsize='x-large')\n",
    "ax = fig.gca()\n",
    "\n",
    "#Apply Sale data into millions function.\n",
    "formatter = FuncFormatter(format_revenues_number)\n",
    "ax.xaxis.set_major_formatter(formatter)\n",
    "\n",
    "df_graph.plot(kind='barh', ax = fig.gca())\n",
    "plt.show()"
   ]
  },
  {
   "cell_type": "markdown",
   "metadata": {},
   "source": [
    "Next Nikkei Index RIC."
   ]
  },
  {
   "cell_type": "code",
   "execution_count": 39,
   "metadata": {},
   "outputs": [
    {
     "data": {
      "text/plain": [
       "'8267.T'"
      ]
     },
     "execution_count": 39,
     "metadata": {},
     "output_type": "execute_result"
    }
   ],
   "source": [
    "rics[1]"
   ]
  },
  {
   "cell_type": "code",
   "execution_count": 40,
   "metadata": {},
   "outputs": [
    {
     "data": {
      "text/html": [
       "<div>\n",
       "<style scoped>\n",
       "    .dataframe tbody tr th:only-of-type {\n",
       "        vertical-align: middle;\n",
       "    }\n",
       "\n",
       "    .dataframe tbody tr th {\n",
       "        vertical-align: top;\n",
       "    }\n",
       "\n",
       "    .dataframe thead th {\n",
       "        text-align: right;\n",
       "    }\n",
       "</style>\n",
       "<table border=\"1\" class=\"dataframe\">\n",
       "  <thead>\n",
       "    <tr style=\"text-align: right;\">\n",
       "      <th></th>\n",
       "      <th>Instrument</th>\n",
       "      <th>Segment Name</th>\n",
       "      <th>Geographic Total Revenues (Calculated)</th>\n",
       "      <th>Company Name</th>\n",
       "    </tr>\n",
       "  </thead>\n",
       "  <tbody>\n",
       "    <tr>\n",
       "      <th>0</th>\n",
       "      <td>8267.T</td>\n",
       "      <td>Japan</td>\n",
       "      <td>7757433000000</td>\n",
       "      <td>Aeon Co Ltd</td>\n",
       "    </tr>\n",
       "    <tr>\n",
       "      <th>1</th>\n",
       "      <td>8267.T</td>\n",
       "      <td>China (Country)</td>\n",
       "      <td>278952000000</td>\n",
       "      <td></td>\n",
       "    </tr>\n",
       "    <tr>\n",
       "      <th>2</th>\n",
       "      <td>8267.T</td>\n",
       "      <td>ASEAN</td>\n",
       "      <td>365741000000</td>\n",
       "      <td></td>\n",
       "    </tr>\n",
       "    <tr>\n",
       "      <th>3</th>\n",
       "      <td>8267.T</td>\n",
       "      <td>Undetermined Geography</td>\n",
       "      <td>116088000000</td>\n",
       "      <td></td>\n",
       "    </tr>\n",
       "    <tr>\n",
       "      <th>4</th>\n",
       "      <td>8267.T</td>\n",
       "      <td>Segment Total</td>\n",
       "      <td>8518214000000</td>\n",
       "      <td></td>\n",
       "    </tr>\n",
       "    <tr>\n",
       "      <th>5</th>\n",
       "      <td>8267.T</td>\n",
       "      <td>Consolidated Total</td>\n",
       "      <td>8518214000000</td>\n",
       "      <td></td>\n",
       "    </tr>\n",
       "  </tbody>\n",
       "</table>\n",
       "</div>"
      ],
      "text/plain": [
       "  Instrument            Segment Name  Geographic Total Revenues (Calculated)  \\\n",
       "0     8267.T                   Japan                           7757433000000   \n",
       "1     8267.T         China (Country)                            278952000000   \n",
       "2     8267.T                   ASEAN                            365741000000   \n",
       "3     8267.T  Undetermined Geography                            116088000000   \n",
       "4     8267.T           Segment Total                           8518214000000   \n",
       "5     8267.T      Consolidated Total                           8518214000000   \n",
       "\n",
       "  Company Name  \n",
       "0  Aeon Co Ltd  \n",
       "1               \n",
       "2               \n",
       "3               \n",
       "4               \n",
       "5               "
      ]
     },
     "execution_count": 40,
     "metadata": {},
     "output_type": "execute_result"
    }
   ],
   "source": [
    "# Get Company fundamentals data via Eikon.get_data function\n",
    "\n",
    "df,err = ek.get_data(rics[1], ['TR.BGS.GeoTotalRevenue.segmentName', 'TR.BGS.GeoTotalRevenue','TR.CompanyName'])\n",
    "df"
   ]
  },
  {
   "cell_type": "code",
   "execution_count": 41,
   "metadata": {},
   "outputs": [
    {
     "data": {
      "text/plain": [
       "'Aeon Co Ltd'"
      ]
     },
     "execution_count": 41,
     "metadata": {},
     "output_type": "execute_result"
    }
   ],
   "source": [
    "# Get Company Name\n",
    "\n",
    "company_name = df.iloc[0]['Company Name']\n",
    "company_name"
   ]
  },
  {
   "cell_type": "code",
   "execution_count": 42,
   "metadata": {},
   "outputs": [
    {
     "data": {
      "text/html": [
       "<div>\n",
       "<style scoped>\n",
       "    .dataframe tbody tr th:only-of-type {\n",
       "        vertical-align: middle;\n",
       "    }\n",
       "\n",
       "    .dataframe tbody tr th {\n",
       "        vertical-align: top;\n",
       "    }\n",
       "\n",
       "    .dataframe thead th {\n",
       "        text-align: right;\n",
       "    }\n",
       "</style>\n",
       "<table border=\"1\" class=\"dataframe\">\n",
       "  <thead>\n",
       "    <tr style=\"text-align: right;\">\n",
       "      <th></th>\n",
       "      <th>Instrument</th>\n",
       "      <th>Geographic</th>\n",
       "      <th>Revenues</th>\n",
       "      <th>Company Name</th>\n",
       "    </tr>\n",
       "  </thead>\n",
       "  <tbody>\n",
       "    <tr>\n",
       "      <th>0</th>\n",
       "      <td>8267.T</td>\n",
       "      <td>Japan</td>\n",
       "      <td>7757433000000</td>\n",
       "      <td>Aeon Co Ltd</td>\n",
       "    </tr>\n",
       "    <tr>\n",
       "      <th>1</th>\n",
       "      <td>8267.T</td>\n",
       "      <td>China (Country)</td>\n",
       "      <td>278952000000</td>\n",
       "      <td></td>\n",
       "    </tr>\n",
       "    <tr>\n",
       "      <th>2</th>\n",
       "      <td>8267.T</td>\n",
       "      <td>ASEAN</td>\n",
       "      <td>365741000000</td>\n",
       "      <td></td>\n",
       "    </tr>\n",
       "    <tr>\n",
       "      <th>3</th>\n",
       "      <td>8267.T</td>\n",
       "      <td>Undetermined Geography</td>\n",
       "      <td>116088000000</td>\n",
       "      <td></td>\n",
       "    </tr>\n",
       "    <tr>\n",
       "      <th>4</th>\n",
       "      <td>8267.T</td>\n",
       "      <td>Segment Total</td>\n",
       "      <td>8518214000000</td>\n",
       "      <td></td>\n",
       "    </tr>\n",
       "    <tr>\n",
       "      <th>5</th>\n",
       "      <td>8267.T</td>\n",
       "      <td>Consolidated Total</td>\n",
       "      <td>8518214000000</td>\n",
       "      <td></td>\n",
       "    </tr>\n",
       "  </tbody>\n",
       "</table>\n",
       "</div>"
      ],
      "text/plain": [
       "  Instrument              Geographic       Revenues Company Name\n",
       "0     8267.T                   Japan  7757433000000  Aeon Co Ltd\n",
       "1     8267.T         China (Country)   278952000000             \n",
       "2     8267.T                   ASEAN   365741000000             \n",
       "3     8267.T  Undetermined Geography   116088000000             \n",
       "4     8267.T           Segment Total  8518214000000             \n",
       "5     8267.T      Consolidated Total  8518214000000             "
      ]
     },
     "execution_count": 42,
     "metadata": {},
     "output_type": "execute_result"
    }
   ],
   "source": [
    "# Change Dataframe object columns to be readable names.\n",
    "\n",
    "df_graph = df.copy()\n",
    "\n",
    "df_graph.rename(columns={\n",
    "                   'Segment Name':'Geographic',\n",
    "                   'Geographic Total Revenues (Calculated)':'Revenues'},\n",
    "         inplace = True)\n",
    "\n",
    "df_graph"
   ]
  },
  {
   "cell_type": "code",
   "execution_count": 43,
   "metadata": {},
   "outputs": [
    {
     "data": {
      "text/plain": [
       "8518214000000"
      ]
     },
     "execution_count": 43,
     "metadata": {},
     "output_type": "execute_result"
    }
   ],
   "source": [
    "# Get Consolidate Total Sale summary value\n",
    "\n",
    "total_sale = df_graph.iloc[df_graph.shape[0] - 1]['Revenues']\n",
    "total_sale"
   ]
  },
  {
   "cell_type": "code",
   "execution_count": 44,
   "metadata": {},
   "outputs": [],
   "source": [
    "# Remove unused rows before ploting a grah\n",
    "\n",
    "df_graph = df_graph[df_graph['Geographic'] != 'Segment Total']\n",
    "df_graph = df_graph[df_graph['Geographic'] != 'Consolidated Total']"
   ]
  },
  {
   "cell_type": "code",
   "execution_count": 45,
   "metadata": {},
   "outputs": [
    {
     "data": {
      "image/png": "[encoded data removed]",
      "text/plain": [
       "<Figure size 432x288 with 1 Axes>"
      ]
     },
     "metadata": {
      "needs_background": "light"
     },
     "output_type": "display_data"
    }
   ],
   "source": [
    "# Plotting a Graph\n",
    "\n",
    "df_graph.set_index('Geographic',drop=True,inplace=True)\n",
    "fig = plt.figure()\n",
    "\n",
    "#Format Total Sale display unit as a graph footer.\n",
    "fig.text(.5, -.05, 'Consolidated Total Sale %s' %(f'{total_sale:,.2f}'), ha='center',fontsize='large')\n",
    "\n",
    "# Create graph title from Company and RIC names dynamically.\n",
    "plt.ticklabel_format(style = 'plain')\n",
    "plt.title('%s (%s) Geographic Sale Breakdown' % (company_name, rics[1]), color='black',fontsize='x-large')\n",
    "ax = fig.gca()\n",
    "\n",
    "#Apply Sale data into millions function.\n",
    "formatter = FuncFormatter(format_revenues_number)\n",
    "ax.xaxis.set_major_formatter(formatter)\n",
    "\n",
    "df_graph.plot(kind='barh', ax = fig.gca())\n",
    "plt.show()"
   ]
  },
  {
   "cell_type": "markdown",
   "metadata": {},
   "source": [
    "## Conclusion\n",
    "\n",
    "Refinitiv provides a wide range of Reuters Fundamentals data for your investment decisions including company geographic sale information. This information helps you analysis the revenue from each geographic region of your interested company in both panel data and graph formats."
   ]
  },
  {
   "cell_type": "markdown",
   "metadata": {},
   "source": [
    "## References\n",
    "\n",
    "You can find more detail regarding the Eikon Data API and related technologies for this notebook from the following resources:\n",
    "* [Refinitiv Eikon Data API page](https://developers.refinitiv.com/eikon-apis/eikon-data-api) on the [Refinitiv Developer Community](https://developers.refinitiv.com/) web site.\n",
    "* [Eikon Data API Quick Start Guide page](https://developers.refinitiv.com/eikon-apis/eikon-data-api/quick-start).\n",
    "* [Eikon Data API Tutorial page](https://developers.refinitiv.com/eikon-apis/eikon-data-api/learning).\n",
    "* [Python Quants Video Tutorial Series for Eikon API](https://community.developers.refinitiv.com/questions/37865/announcement-new-python-quants-video-tutorial-seri.html).\n",
    "* [Eikon Data APY Python Reference Guide](https://docs-developers.refinitiv.com/1584688434238/14684/book/en/index.html).\n",
    "* [Eikon Data API Troubleshooting article](https://developers.refinitiv.com/article/eikon-data-apipython-troubleshooting-refinitiv).\n",
    "* [Dan Friedman's Python programming, data analysis, data visualizations tutorials](https://github.com/frieds/frieds.github.io).\n",
    "* [Pandas API Reference](https://pandas.pydata.org/docs/reference/index.html).\n",
    "* [Pyplot Graph API Reference](https://matplotlib.org/api/pyplot_api.html).\n",
    "\n",
    "For any question related to this example or Eikon Data API, please use the Developers Community [Q&A Forum](https://community.developers.refinitiv.com/spaces/92/eikon-scripting-apis.html)."
   ]
  },
  {
   "cell_type": "code",
   "execution_count": null,
   "metadata": {},
   "outputs": [],
   "source": []
  }
 ],
 "metadata": {
  "kernelspec": {
   "display_name": "Python 3",
   "language": "python",
   "name": "python3"
  },
  "language_info": {
   "codemirror_mode": {
    "name": "ipython",
    "version": 3
   },
   "file_extension": ".py",
   "mimetype": "text/x-python",
   "name": "python",
   "nbconvert_exporter": "python",
   "pygments_lexer": "ipython3",
   "version": "3.7.9"
  }
 },
 "nbformat": 4,
 "nbformat_minor": 4
}
